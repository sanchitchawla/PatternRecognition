{
 "cells": [
  {
   "cell_type": "markdown",
   "metadata": {},
   "source": [
    "\n",
    "We want to classify yoyo in to 4 flavors using features such as package color, sweetness level.\n",
    "\n",
    "Supposed we want to use 1 VS All algorithm. To do this.\n"
   ]
  },
  {
   "cell_type": "markdown",
   "metadata": {},
   "source": [
    "1) How many classifiers we need to train?"
   ]
  },
  {
   "cell_type": "code",
   "execution_count": null,
   "metadata": {
    "collapsed": true
   },
   "outputs": [],
   "source": [
    "# 4 (N) "
   ]
  },
  {
   "cell_type": "markdown",
   "metadata": {},
   "source": [
    "2) How do we train each classifier? (Which one to call + and which one to call -)"
   ]
  },
  {
   "cell_type": "code",
   "execution_count": null,
   "metadata": {
    "collapsed": true
   },
   "outputs": [],
   "source": [
    "# use the same training set, except label each differently\n",
    "# for example for red you label red as + 1 and the rest as -1"
   ]
  },
  {
   "cell_type": "markdown",
   "metadata": {},
   "source": [
    "3) Write a table for perfect answer for each class."
   ]
  },
  {
   "cell_type": "markdown",
   "metadata": {
    "collapsed": true
   },
   "source": [
    "\n",
    "| R v NR | g v Ng | P v Np | Y v nY |\n",
    "|--------|--------|--------|--------|\n",
    "| 1      | 0      | 0      | 0      |\n",
    "| 0      | 1      | 0      | 0      |\n",
    "| 0      | 0      | 1      | 0      |\n",
    "| 0      | 0      | 0      | 1      |"
   ]
  },
  {
   "cell_type": "markdown",
   "metadata": {},
   "source": [
    "4) If the answer from all the classifier for a sample looks like \n",
    "$$(0.1,0.2,0.3,0.6)$$\n",
    "What class should it be?"
   ]
  },
  {
   "cell_type": "code",
   "execution_count": 2,
   "metadata": {
    "collapsed": false
   },
   "outputs": [
    {
     "name": "stdout",
     "output_type": "stream",
     "text": [
      "yellow\n"
     ]
    }
   ],
   "source": [
    "import numpy as np\n",
    "\n",
    "table = np.array([[1.,0.,0.,0.],[0.,1.,0.,0.],[0.,0.,1.,0.],[0.,0.,0.,1.]])\n",
    "ans = np.array([0.1, 0.2, 0.3, 0.6])\n",
    "color = [\"red\", \"green\", \"purple\", \"yellow\"]\n",
    "\n",
    "def f(table, ans):\n",
    "    lst = []\n",
    "    for i in range(len(table)):\n",
    "        for j in range(len(table)):\n",
    "            table[j][i] = (table[j][i] - ans[i])**2\n",
    "        \n",
    "        a = np.sum(table[j])\n",
    "        lst.append(a)\n",
    "    return lst\n",
    "\n",
    "def findMin(lst):\n",
    "    min_ = min(lst)\n",
    "    for i, j in enumerate(lst):\n",
    "        if j == min_:\n",
    "            return color[i]\n",
    "\n",
    "print findMin(f(table, ans))"
   ]
  },
  {
   "cell_type": "markdown",
   "metadata": {},
   "source": [
    "what about\n",
    "$$(0.6,0.6,0.7,0.7)$$"
   ]
  },
  {
   "cell_type": "code",
   "execution_count": 19,
   "metadata": {
    "collapsed": false
   },
   "outputs": [
    {
     "name": "stdout",
     "output_type": "stream",
     "text": [
      "red\n"
     ]
    }
   ],
   "source": [
    "ans2 = np.array([0.6, 0.6, 0.7, 0.7])\n",
    "print findMin(f(table, ans2))"
   ]
  },
  {
   "cell_type": "markdown",
   "metadata": {},
   "source": [
    "5) How many answers we can get wrong before the classifier start getting confused?"
   ]
  },
  {
   "cell_type": "code",
   "execution_count": null,
   "metadata": {
    "collapsed": true
   },
   "outputs": [],
   "source": [
    "# at most 1 "
   ]
  },
  {
   "cell_type": "markdown",
   "metadata": {},
   "source": [
    "6) How can we do better against wrong answer?"
   ]
  },
  {
   "cell_type": "code",
   "execution_count": 6,
   "metadata": {
    "collapsed": true
   },
   "outputs": [],
   "source": [
    "# we add extra classifiers (exhaustive)"
   ]
  },
  {
   "cell_type": "markdown",
   "metadata": {},
   "source": [
    "7) Write down the exhaustive matrix for 4 classes."
   ]
  },
  {
   "cell_type": "code",
   "execution_count": null,
   "metadata": {
    "collapsed": true
   },
   "outputs": [],
   "source": [
    "# fuck that "
   ]
  },
  {
   "cell_type": "markdown",
   "metadata": {},
   "source": [
    "# Real Exercise"
   ]
  },
  {
   "cell_type": "markdown",
   "metadata": {},
   "source": [
    "Read glass.data and build a classifier to classify glass.\n",
    "\n",
    "What is this glass?\n",
    "\n",
    "$$1.5,14.8,0.00,2.00,73.00,0.00,8.00,1.7,0.00$$"
   ]
  },
  {
   "cell_type": "code",
   "execution_count": 45,
   "metadata": {
    "collapsed": false
   },
   "outputs": [],
   "source": [
    "file = open('glass.data.txt','r')\n",
    "originalData = []\n",
    "for i in file.readlines():\n",
    "    each = (i.rstrip()).split(\",\")\n",
    "    originalData.append(each[1:])\n",
    "originalData = np.array(originalData)"
   ]
  },
  {
   "cell_type": "code",
   "execution_count": 4,
   "metadata": {
    "collapsed": false
   },
   "outputs": [
    {
     "data": {
      "text/html": [
       "<div>\n",
       "<table border=\"1\" class=\"dataframe\">\n",
       "  <thead>\n",
       "    <tr style=\"text-align: right;\">\n",
       "      <th></th>\n",
       "      <th>0</th>\n",
       "      <th>1</th>\n",
       "      <th>2</th>\n",
       "      <th>3</th>\n",
       "      <th>4</th>\n",
       "      <th>5</th>\n",
       "      <th>6</th>\n",
       "      <th>7</th>\n",
       "      <th>8</th>\n",
       "      <th>9</th>\n",
       "    </tr>\n",
       "  </thead>\n",
       "  <tbody>\n",
       "    <tr>\n",
       "      <th>0</th>\n",
       "      <td>1.52101</td>\n",
       "      <td>13.64</td>\n",
       "      <td>4.49</td>\n",
       "      <td>1.10</td>\n",
       "      <td>71.78</td>\n",
       "      <td>0.06</td>\n",
       "      <td>8.75</td>\n",
       "      <td>0.00</td>\n",
       "      <td>0.00</td>\n",
       "      <td>1</td>\n",
       "    </tr>\n",
       "    <tr>\n",
       "      <th>1</th>\n",
       "      <td>1.51761</td>\n",
       "      <td>13.89</td>\n",
       "      <td>3.60</td>\n",
       "      <td>1.36</td>\n",
       "      <td>72.73</td>\n",
       "      <td>0.48</td>\n",
       "      <td>7.83</td>\n",
       "      <td>0.00</td>\n",
       "      <td>0.00</td>\n",
       "      <td>1</td>\n",
       "    </tr>\n",
       "    <tr>\n",
       "      <th>2</th>\n",
       "      <td>1.51618</td>\n",
       "      <td>13.53</td>\n",
       "      <td>3.55</td>\n",
       "      <td>1.54</td>\n",
       "      <td>72.99</td>\n",
       "      <td>0.39</td>\n",
       "      <td>7.78</td>\n",
       "      <td>0.00</td>\n",
       "      <td>0.00</td>\n",
       "      <td>1</td>\n",
       "    </tr>\n",
       "    <tr>\n",
       "      <th>3</th>\n",
       "      <td>1.51766</td>\n",
       "      <td>13.21</td>\n",
       "      <td>3.69</td>\n",
       "      <td>1.29</td>\n",
       "      <td>72.61</td>\n",
       "      <td>0.57</td>\n",
       "      <td>8.22</td>\n",
       "      <td>0.00</td>\n",
       "      <td>0.00</td>\n",
       "      <td>1</td>\n",
       "    </tr>\n",
       "    <tr>\n",
       "      <th>4</th>\n",
       "      <td>1.51742</td>\n",
       "      <td>13.27</td>\n",
       "      <td>3.62</td>\n",
       "      <td>1.24</td>\n",
       "      <td>73.08</td>\n",
       "      <td>0.55</td>\n",
       "      <td>8.07</td>\n",
       "      <td>0.00</td>\n",
       "      <td>0.00</td>\n",
       "      <td>1</td>\n",
       "    </tr>\n",
       "  </tbody>\n",
       "</table>\n",
       "</div>"
      ],
      "text/plain": [
       "         0      1     2     3      4     5     6     7     8  9\n",
       "0  1.52101  13.64  4.49  1.10  71.78  0.06  8.75  0.00  0.00  1\n",
       "1  1.51761  13.89  3.60  1.36  72.73  0.48  7.83  0.00  0.00  1\n",
       "2  1.51618  13.53  3.55  1.54  72.99  0.39  7.78  0.00  0.00  1\n",
       "3  1.51766  13.21  3.69  1.29  72.61  0.57  8.22  0.00  0.00  1\n",
       "4  1.51742  13.27  3.62  1.24  73.08  0.55  8.07  0.00  0.00  1"
      ]
     },
     "execution_count": 4,
     "metadata": {},
     "output_type": "execute_result"
    }
   ],
   "source": [
    "import pandas as pd\n",
    "\n",
    "df = pd.DataFrame(originalData)\n",
    "df.head()"
   ]
  },
  {
   "cell_type": "code",
   "execution_count": 54,
   "metadata": {
    "collapsed": false
   },
   "outputs": [],
   "source": [
    "classes = originalData[:,-1]\n",
    "features = originalData[:,:-1]"
   ]
  },
  {
   "cell_type": "code",
   "execution_count": 5,
   "metadata": {
    "collapsed": true
   },
   "outputs": [],
   "source": [
    "%matplotlib inline\n",
    "from matplotlib import pyplot as plt\n",
    "import numpy as np\n",
    "from scipy.optimize import minimize\n",
    "from scipy.special import expit #sigmoid\n",
    "\n",
    "class Logistic:\n",
    "    def __init__(self):\n",
    "        self.w = None\n",
    "       \n",
    "    def train(self, pos_features, neg_features):\n",
    "        \"\"\"assumes the features are padded\"\"\"\n",
    "        def cost(w):\n",
    "            pos = np.log(expit(+1 * np.dot(pos_features,w)))\n",
    "            neg = np.log(expit(-1 * np.dot(neg_features,w)))\n",
    "            return -(np.sum(pos)+np.sum(neg))\n",
    "        n_features = pos_features.shape[-1]\n",
    "        self.w = minimize(cost, [0.]*n_features).x\n",
    "       \n",
    "    def classify(self, unknown_class_features):\n",
    "        #assume the features is already padded\n",
    "        #do another magic with existing w\n",
    "        return  expit(np.dot(unknown_class_features, self.w))    \n",
    "def pad(features):\n",
    "    return np.pad(features, ((0,0),(1,0)), mode='constant', constant_values=1.)"
   ]
  },
  {
   "cell_type": "code",
   "execution_count": 61,
   "metadata": {
    "collapsed": false
   },
   "outputs": [
    {
     "name": "stdout",
     "output_type": "stream",
     "text": [
      "214 214\n"
     ]
    },
    {
     "name": "stderr",
     "output_type": "stream",
     "text": [
      "C:\\Users\\sanch\\AppData\\Local\\Continuum\\Anaconda2\\lib\\site-packages\\ipykernel\\__main__.py:10: FutureWarning: elementwise comparison failed; returning scalar instead, but in the future will perform elementwise comparison\n"
     ]
    },
    {
     "ename": "IndexError",
     "evalue": "in the future, 0-d boolean arrays will be interpreted as a valid boolean index",
     "output_type": "error",
     "traceback": [
      "\u001b[0;31m---------------------------------------------------------------------------\u001b[0m",
      "\u001b[0;31mIndexError\u001b[0m                                Traceback (most recent call last)",
      "\u001b[0;32m<ipython-input-61-63508b0108ab>\u001b[0m in \u001b[0;36m<module>\u001b[0;34m()\u001b[0m\n\u001b[1;32m      8\u001b[0m     \u001b[1;31m#classes for this classifier\u001b[0m\u001b[1;33m\u001b[0m\u001b[1;33m\u001b[0m\u001b[0m\n\u001b[1;32m      9\u001b[0m     \u001b[0mnew_class\u001b[0m \u001b[1;33m=\u001b[0m \u001b[0mclasses\u001b[0m\u001b[1;33m.\u001b[0m\u001b[0mcopy\u001b[0m\u001b[1;33m(\u001b[0m\u001b[1;33m)\u001b[0m\u001b[1;33m\u001b[0m\u001b[0m\n\u001b[0;32m---> 10\u001b[0;31m     \u001b[0mnew_class\u001b[0m\u001b[1;33m[\u001b[0m\u001b[0mclasses\u001b[0m\u001b[1;33m==\u001b[0m\u001b[0mi\u001b[0m\u001b[1;33m]\u001b[0m \u001b[1;33m=\u001b[0m \u001b[1;36m1\u001b[0m\u001b[1;33m\u001b[0m\u001b[0m\n\u001b[0m\u001b[1;32m     11\u001b[0m     \u001b[0mnew_class\u001b[0m\u001b[1;33m[\u001b[0m\u001b[0mclasses\u001b[0m\u001b[1;33m!=\u001b[0m\u001b[0mi\u001b[0m\u001b[1;33m]\u001b[0m \u001b[1;33m=\u001b[0m \u001b[1;33m-\u001b[0m\u001b[1;36m1\u001b[0m\u001b[1;33m\u001b[0m\u001b[0m\n\u001b[1;32m     12\u001b[0m     \u001b[0mL\u001b[0m \u001b[1;33m=\u001b[0m \u001b[0mLogisticRegression\u001b[0m\u001b[1;33m(\u001b[0m\u001b[1;33m)\u001b[0m\u001b[1;33m\u001b[0m\u001b[0m\n",
      "\u001b[0;31mIndexError\u001b[0m: in the future, 0-d boolean arrays will be interpreted as a valid boolean index"
     ]
    }
   ],
   "source": [
    "classes = np.array(classes)\n",
    "padded_features = np.lib.pad(features,((0,0),(1,0)),'constant', constant_values=1)\n",
    "print len(classes), len(padded_features)\n",
    "#There are 3 of them we need to train. (2^(7-1)-1)\n",
    "classifiers = []\n",
    "for i in range(1,63):\n",
    "    #first transform class\n",
    "    #classes for this classifier\n",
    "    new_class = classes.copy()\n",
    "    new_class[classes==i] = 1\n",
    "    new_class[classes!=i] = -1\n",
    "    L = LogisticRegression()\n",
    "    L.fit(classes,padded_features)\n",
    "    classifiers.append(L)"
   ]
  },
  {
   "cell_type": "code",
   "execution_count": null,
   "metadata": {
    "collapsed": true
   },
   "outputs": [],
   "source": []
  }
 ],
 "metadata": {
  "anaconda-cloud": {},
  "kernelspec": {
   "display_name": "Python [default]",
   "language": "python",
   "name": "python2"
  },
  "language_info": {
   "codemirror_mode": {
    "name": "ipython",
    "version": 2
   },
   "file_extension": ".py",
   "mimetype": "text/x-python",
   "name": "python",
   "nbconvert_exporter": "python",
   "pygments_lexer": "ipython2",
   "version": "2.7.12"
  }
 },
 "nbformat": 4,
 "nbformat_minor": 0
}
