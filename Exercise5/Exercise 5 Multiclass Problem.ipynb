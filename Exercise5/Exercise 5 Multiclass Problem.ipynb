{
 "cells": [
  {
   "cell_type": "markdown",
   "metadata": {},
   "source": [
    "\n",
    "We want to classify yoyo in to 4 flavors using features such as package color, sweetness level.\n",
    "\n",
    "Supposed we want to use 1 VS All algorithm. To do this.\n"
   ]
  },
  {
   "cell_type": "markdown",
   "metadata": {},
   "source": [
    "1) How many classifiers we need to train?"
   ]
  },
  {
   "cell_type": "code",
   "execution_count": null,
   "metadata": {
    "collapsed": true
   },
   "outputs": [],
   "source": [
    "# 4 (N) "
   ]
  },
  {
   "cell_type": "markdown",
   "metadata": {},
   "source": [
    "2) How do we train each classifier? (Which one to call + and which one to call -)"
   ]
  },
  {
   "cell_type": "code",
   "execution_count": null,
   "metadata": {
    "collapsed": true
   },
   "outputs": [],
   "source": [
    "# use the same training set, except label each differently\n",
    "# for example for red you label red as + 1 and the rest as -1"
   ]
  },
  {
   "cell_type": "markdown",
   "metadata": {},
   "source": [
    "3) Write a table for perfect answer for each class."
   ]
  },
  {
   "cell_type": "markdown",
   "metadata": {
    "collapsed": true
   },
   "source": [
    "\n",
    "| R v NR | g v Ng | P v Np | Y v nY |\n",
    "|--------|--------|--------|--------|\n",
    "| 1      | 0      | 0      | 0      |\n",
    "| 0      | 1      | 0      | 0      |\n",
    "| 0      | 0      | 1      | 0      |\n",
    "| 0      | 0      | 0      | 1      |"
   ]
  },
  {
   "cell_type": "markdown",
   "metadata": {},
   "source": [
    "4) If the answer from all the classifier for a sample looks like \n",
    "$$(0.1,0.2,0.3,0.6)$$\n",
    "What class should it be?"
   ]
  },
  {
   "cell_type": "code",
   "execution_count": 18,
   "metadata": {
    "collapsed": false
   },
   "outputs": [
    {
     "name": "stdout",
     "output_type": "stream",
     "text": [
      "yellow\n"
     ]
    }
   ],
   "source": [
    "import numpy as np\n",
    "\n",
    "table = np.array([[1.,0.,0.,0.],[0.,1.,0.,0.],[0.,0.,1.,0.],[0.,0.,0.,1.]])\n",
    "ans = np.array([0.1, 0.2, 0.3, 0.6])\n",
    "color = [\"red\", \"green\", \"purple\", \"yellow\"]\n",
    "\n",
    "def f(table, ans):\n",
    "    lst = []\n",
    "    for i in range(len(table)):\n",
    "        for j in range(len(table)):\n",
    "            table[j][i] = (table[j][i] - ans[i])**2\n",
    "        \n",
    "        a = np.sum(table[j])\n",
    "        lst.append(a)\n",
    "    return lst\n",
    "\n",
    "def findMin(lst):\n",
    "    min_ = min(lst)\n",
    "    for i, j in enumerate(lst):\n",
    "        if j == min_:\n",
    "            return color[i]\n",
    "\n",
    "print findMin(f(table, ans))"
   ]
  },
  {
   "cell_type": "markdown",
   "metadata": {},
   "source": [
    "what about\n",
    "$$(0.6,0.6,0.7,0.7)$$"
   ]
  },
  {
   "cell_type": "code",
   "execution_count": 19,
   "metadata": {
    "collapsed": false
   },
   "outputs": [
    {
     "name": "stdout",
     "output_type": "stream",
     "text": [
      "red\n"
     ]
    }
   ],
   "source": [
    "ans2 = np.array([0.6, 0.6, 0.7, 0.7])\n",
    "print findMin(f(table, ans2))"
   ]
  },
  {
   "cell_type": "markdown",
   "metadata": {},
   "source": [
    "5) How many answers we can get wrong before the classifier start getting confused?"
   ]
  },
  {
   "cell_type": "code",
   "execution_count": null,
   "metadata": {
    "collapsed": true
   },
   "outputs": [],
   "source": [
    "# at most 1 "
   ]
  },
  {
   "cell_type": "markdown",
   "metadata": {},
   "source": [
    "6) How can we do better against wrong answer?"
   ]
  },
  {
   "cell_type": "code",
   "execution_count": 6,
   "metadata": {
    "collapsed": true
   },
   "outputs": [],
   "source": [
    "# we add extra classifiers (exhaustive)"
   ]
  },
  {
   "cell_type": "markdown",
   "metadata": {},
   "source": [
    "7) Write down the exhaustive matrix for 4 classes."
   ]
  },
  {
   "cell_type": "code",
   "execution_count": null,
   "metadata": {
    "collapsed": true
   },
   "outputs": [],
   "source": [
    "# fuck that "
   ]
  },
  {
   "cell_type": "markdown",
   "metadata": {},
   "source": [
    "# Real Exercise"
   ]
  },
  {
   "cell_type": "markdown",
   "metadata": {},
   "source": [
    "Read glass.data and build a classifier to classify glass.\n",
    "\n",
    "What is this glass?\n",
    "\n",
    "$$1.5,14.8,0.00,2.00,73.00,0.00,8.00,1.7,0.00$$"
   ]
  },
  {
   "cell_type": "code",
   "execution_count": 46,
   "metadata": {
    "collapsed": false
   },
   "outputs": [],
   "source": [
    "file = open('glass.data.txt','r')\n",
    "originalData = []\n",
    "for i in file.readlines():\n",
    "    each = (i.rstrip()).split(\",\")\n",
    "    originalData.append(each[1:])"
   ]
  },
  {
   "cell_type": "code",
   "execution_count": 48,
   "metadata": {
    "collapsed": false
   },
   "outputs": [],
   "source": [
    "import pandas as pd\n",
    "\n",
    "df = pd.DataFrame(originalData)\n",
    "df.head()"
   ]
  },
  {
   "cell_type": "code",
   "execution_count": 50,
   "metadata": {
    "collapsed": true
   },
   "outputs": [],
   "source": [
    "%matplotlib inline\n",
    "from matplotlib import pyplot as plt\n",
    "import numpy as np\n",
    "from scipy.optimize import minimize\n",
    "from scipy.special import expit #sigmoid\n",
    "\n",
    "class Logistic:\n",
    "    def __init__(self):\n",
    "        self.w = None\n",
    "       \n",
    "    def train(self, pos_features, neg_features):\n",
    "        \"\"\"assumes the features are padded\"\"\"\n",
    "        def cost(w):\n",
    "            pos = np.log(expit(+1 * np.dot(pos_features,w)))\n",
    "            neg = np.log(expit(-1 * np.dot(neg_features,w)))\n",
    "            return -(np.sum(pos)+np.sum(neg))\n",
    "        n_features = pos_features.shape[-1]\n",
    "        self.w = minimize(cost, [0.]*n_features).x\n",
    "       \n",
    "    def classify(self, unknown_class_features):\n",
    "        #assume the features is already padded\n",
    "        #do another magic with existing w\n",
    "        return  expit(np.dot(unknown_class_features, self.w))    \n",
    "def pad(features):\n",
    "    return np.pad(features, ((0,0),(1,0)), mode='constant', constant_values=1.)"
   ]
  },
  {
   "cell_type": "code",
   "execution_count": null,
   "metadata": {
    "collapsed": true
   },
   "outputs": [],
   "source": []
  }
 ],
 "metadata": {
  "anaconda-cloud": {},
  "kernelspec": {
   "display_name": "Python [default]",
   "language": "python",
   "name": "python2"
  },
  "language_info": {
   "codemirror_mode": {
    "name": "ipython",
    "version": 2
   },
   "file_extension": ".py",
   "mimetype": "text/x-python",
   "name": "python",
   "nbconvert_exporter": "python",
   "pygments_lexer": "ipython2",
   "version": "2.7.12"
  }
 },
 "nbformat": 4,
 "nbformat_minor": 0
}
