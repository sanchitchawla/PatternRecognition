{
 "cells": [
  {
   "cell_type": "markdown",
   "metadata": {},
   "source": [
    "# Homework 1 Breast Cancer\n",
    "\n",
    "The data in this homework is from http://archive.ics.uci.edu/ml/datasets/Breast+Cancer+Wisconsin+%28Original%29\n",
    "\n",
    "You can read what each column means from the website."
   ]
  },
  {
   "cell_type": "markdown",
   "metadata": {},
   "source": [
    "1) (0)First write a function that separate the data into 20% test and 80% train. Hint: use np.random.seed to fix random number generator.\n",
    "\n",
    "- What could happen if you just pick last 20%?\n",
    "- Why do we need to randomize?"
   ]
  },
  {
   "cell_type": "code",
   "execution_count": 1,
   "metadata": {
    "collapsed": true
   },
   "outputs": [],
   "source": [
    "# if data was sorted in some sense, it would be biased\n",
    "# to reduce the probability of being biased"
   ]
  },
  {
   "cell_type": "code",
   "execution_count": 2,
   "metadata": {
    "collapsed": false
   },
   "outputs": [],
   "source": [
    "import numpy as np\n",
    "%matplotlib inline\n",
    "from matplotlib import pyplot as plt\n",
    "import pandas as pd"
   ]
  },
  {
   "cell_type": "code",
   "execution_count": 3,
   "metadata": {
    "collapsed": false
   },
   "outputs": [
    {
     "data": {
      "text/html": [
       "<div>\n",
       "<table border=\"1\" class=\"dataframe\">\n",
       "  <thead>\n",
       "    <tr style=\"text-align: right;\">\n",
       "      <th></th>\n",
       "      <th>Clump</th>\n",
       "      <th>UniCellSize</th>\n",
       "      <th>UniCellShape</th>\n",
       "      <th>MargiAdhesion</th>\n",
       "      <th>SECS</th>\n",
       "      <th>BareNuc</th>\n",
       "      <th>BlandChrom</th>\n",
       "      <th>NormalNuc</th>\n",
       "      <th>Mitosis</th>\n",
       "      <th>Label</th>\n",
       "    </tr>\n",
       "    <tr>\n",
       "      <th>0</th>\n",
       "      <th></th>\n",
       "      <th></th>\n",
       "      <th></th>\n",
       "      <th></th>\n",
       "      <th></th>\n",
       "      <th></th>\n",
       "      <th></th>\n",
       "      <th></th>\n",
       "      <th></th>\n",
       "      <th></th>\n",
       "    </tr>\n",
       "  </thead>\n",
       "  <tbody>\n",
       "    <tr>\n",
       "      <th>1000025</th>\n",
       "      <td>5</td>\n",
       "      <td>1</td>\n",
       "      <td>1</td>\n",
       "      <td>1</td>\n",
       "      <td>2</td>\n",
       "      <td>1</td>\n",
       "      <td>3</td>\n",
       "      <td>1</td>\n",
       "      <td>1</td>\n",
       "      <td>2</td>\n",
       "    </tr>\n",
       "    <tr>\n",
       "      <th>1015425</th>\n",
       "      <td>3</td>\n",
       "      <td>1</td>\n",
       "      <td>1</td>\n",
       "      <td>1</td>\n",
       "      <td>2</td>\n",
       "      <td>2</td>\n",
       "      <td>3</td>\n",
       "      <td>1</td>\n",
       "      <td>1</td>\n",
       "      <td>2</td>\n",
       "    </tr>\n",
       "    <tr>\n",
       "      <th>1016277</th>\n",
       "      <td>6</td>\n",
       "      <td>8</td>\n",
       "      <td>8</td>\n",
       "      <td>1</td>\n",
       "      <td>3</td>\n",
       "      <td>4</td>\n",
       "      <td>3</td>\n",
       "      <td>7</td>\n",
       "      <td>1</td>\n",
       "      <td>2</td>\n",
       "    </tr>\n",
       "    <tr>\n",
       "      <th>1017023</th>\n",
       "      <td>4</td>\n",
       "      <td>1</td>\n",
       "      <td>1</td>\n",
       "      <td>3</td>\n",
       "      <td>2</td>\n",
       "      <td>1</td>\n",
       "      <td>3</td>\n",
       "      <td>1</td>\n",
       "      <td>1</td>\n",
       "      <td>2</td>\n",
       "    </tr>\n",
       "    <tr>\n",
       "      <th>1017122</th>\n",
       "      <td>8</td>\n",
       "      <td>10</td>\n",
       "      <td>10</td>\n",
       "      <td>8</td>\n",
       "      <td>7</td>\n",
       "      <td>10</td>\n",
       "      <td>9</td>\n",
       "      <td>7</td>\n",
       "      <td>1</td>\n",
       "      <td>4</td>\n",
       "    </tr>\n",
       "  </tbody>\n",
       "</table>\n",
       "</div>"
      ],
      "text/plain": [
       "        Clump UniCellSize UniCellShape MargiAdhesion SECS BareNuc BlandChrom  \\\n",
       "0                                                                              \n",
       "1000025     5           1            1             1    2       1          3   \n",
       "1015425     3           1            1             1    2       2          3   \n",
       "1016277     6           8            8             1    3       4          3   \n",
       "1017023     4           1            1             3    2       1          3   \n",
       "1017122     8          10           10             8    7      10          9   \n",
       "\n",
       "        NormalNuc Mitosis Label  \n",
       "0                                \n",
       "1000025         1       1     2  \n",
       "1015425         1       1     2  \n",
       "1016277         7       1     2  \n",
       "1017023         1       1     2  \n",
       "1017122         7       1     4  "
      ]
     },
     "execution_count": 3,
     "metadata": {},
     "output_type": "execute_result"
    }
   ],
   "source": [
    "def train_test_split(data):\n",
    "    l = len(data)\n",
    "    all_index = np.random.choice(l, l*8/10, replace=False)\n",
    "    train = []\n",
    "    test = []\n",
    "    for i in range(l):\n",
    "        if i in all_index:\n",
    "            train.append(data[i])\n",
    "        else:\n",
    "            test.append(data[i])\n",
    "    return train, test\n",
    "\n",
    "def readme(filename):\n",
    "    end = []\n",
    "    with open(filename) as f:\n",
    "        for i in f:\n",
    "            end.append(i)\n",
    "    return end\n",
    "\n",
    "def cleanme(data):\n",
    "    end = []\n",
    "    for i in data:\n",
    "        i = i.rstrip('\\n')\n",
    "        i = i.split(',')\n",
    "        end += [i]\n",
    "    return end\n",
    "\n",
    "p = cleanme(readme(\"breast-cancer-wisconsin.data.txt\"))\n",
    "train, test = train_test_split(p)\n",
    "traindf = pd.DataFrame(train)\n",
    "testdf = pd.DataFrame(test)\n",
    "traindf = traindf.set_index(0)\n",
    "testdf = testdf.set_index(0)\n",
    "traindf.columns = [\"Clump\", \"UniCellSize\", \"UniCellShape\", \"MargiAdhesion\", \"SECS\", \"BareNuc\", \"BlandChrom\",\n",
    "                  \"NormalNuc\", \"Mitosis\", \"Label\"]\n",
    "testdf.columns = [\"Clump\", \"UniCellSize\", \"UniCellShape\", \"MargiAdhesion\", \"SECS\", \"BareNuc\", \"BlandChrom\",\n",
    "                  \"NormalNuc\", \"Mitosis\", \"Label\"]\n",
    "traindf.head() # um idk why I did this, good for visualization I guess "
   ]
  },
  {
   "cell_type": "markdown",
   "metadata": {},
   "source": [
    "2) (0) There are many features in the data. Tell me one from the data set that you should NOT use."
   ]
  },
  {
   "cell_type": "markdown",
   "metadata": {
    "collapsed": true
   },
   "source": [
    "Sample code number: id number "
   ]
  },
  {
   "cell_type": "markdown",
   "metadata": {},
   "source": [
    "3) (100) Build a Bayes Classifier for figuring out whether the tumor is cancerour or benign. Train on 80% and test on the 20%.\n",
    "- Justify the prior you use.\n",
    "- How many do you get correctly on test dataset?\n",
    "- Do you think the the number we got correctly on the test dataset is the thing we should optimize? Why and why not? (Exercise your common sense)"
   ]
  },
  {
   "cell_type": "code",
   "execution_count": 4,
   "metadata": {
    "collapsed": false
   },
   "outputs": [
    {
     "data": {
      "text/plain": [
       "{'CbChrom': [0, 1, 7, 29, 28, 24, 8, 54, 20, 10, 13],\n",
       " 'CbareNuc': [0, 11, 7, 13, 11, 14, 4, 5, 16, 6, 107],\n",
       " 'Cclump': [0, 2, 4, 10, 9, 40, 15, 18, 31, 9, 56],\n",
       " 'CmA': [0, 26, 19, 22, 20, 15, 17, 11, 21, 3, 40],\n",
       " 'Cmitosis': [0, 106, 22, 27, 9, 5, 2, 8, 3, 0, 12],\n",
       " 'CnormNuclei': [0, 36, 5, 26, 13, 13, 16, 12, 14, 12, 47],\n",
       " 'CsECellSize': [0, 1, 16, 38, 33, 24, 33, 7, 16, 2, 24],\n",
       " 'CuniCellShape': [0, 2, 6, 21, 27, 22, 23, 23, 21, 5, 44],\n",
       " 'CuniCellSize': [0, 4, 8, 17, 23, 25, 24, 14, 23, 4, 52],\n",
       " 'bChrom': [0, 121, 120, 98, 6, 4, 1, 2, 0, 0, 0],\n",
       " 'bareNuc': [0, 305, 16, 11, 6, 10, 0, 0, 2, 0, 2],\n",
       " 'clump': [0, 109, 31, 77, 53, 66, 13, 1, 2, 0, 0],\n",
       " 'isBenign': 352,\n",
       " 'isCancer': 194,\n",
       " 'mA': [0, 288, 28, 25, 5, 2, 3, 0, 0, 0, 1],\n",
       " 'mitosis': [0, 343, 5, 2, 0, 1, 0, 1, 0, 0, 0],\n",
       " 'normNuclei': [0, 308, 25, 10, 1, 2, 2, 2, 2, 0, 0],\n",
       " 'sECellSize': [0, 30, 290, 19, 6, 4, 1, 1, 1, 0, 0],\n",
       " 'uniCellShape': [0, 273, 38, 26, 10, 1, 1, 2, 1, 0, 0],\n",
       " 'uniCellSize': [0, 295, 29, 21, 4, 0, 0, 1, 1, 1, 0]}"
      ]
     },
     "execution_count": 4,
     "metadata": {},
     "output_type": "execute_result"
    }
   ],
   "source": [
    "trainingset = {\n",
    "        'clump': [0,0,0 ,0,0,0 ,0,0,0 ,0,0],\n",
    "        'uniCellSize': [0,0,0 ,0,0,0 ,0,0,0 ,0,0],\n",
    "        'uniCellShape': [0,0,0 ,0,0,0 ,0,0,0 ,0,0],\n",
    "        'mA': [0,0,0 ,0,0,0 ,0,0,0 ,0,0],\n",
    "        \"sECellSize\": [0,0,0 ,0,0,0 ,0,0,0 ,0,0],\n",
    "        \"bareNuc\":[0,0,0 ,0,0,0 ,0,0,0 ,0,0],\n",
    "        \"bChrom\":[0,0,0 ,0,0,0 ,0,0,0 ,0,0],\n",
    "        \"normNuclei\":[0,0,0 ,0,0,0 ,0,0,0 ,0,0],\n",
    "        \"mitosis\":[0,0,0 ,0,0,0 ,0,0,0 ,0,0],\n",
    "        \"isBenign\": 0,\n",
    "    \n",
    "        'Cclump': [0,0,0 ,0,0,0 ,0,0,0 ,0,0],\n",
    "        'CuniCellSize': [0,0,0 ,0,0,0 ,0,0,0 ,0,0],\n",
    "        'CuniCellShape': [0,0,0 ,0,0,0 ,0,0,0 ,0,0],\n",
    "        'CmA': [0,0,0 ,0,0,0 ,0,0,0 ,0,0],\n",
    "        \"CsECellSize\": [0,0,0 ,0,0,0 ,0,0,0 ,0,0],\n",
    "        \"CbareNuc\":[0,0,0 ,0,0,0 ,0,0,0 ,0,0], \n",
    "        \"CbChrom\":[0,0,0 ,0,0,0 ,0,0,0 ,0,0], \n",
    "        \"CnormNuclei\":[0,0,0 ,0,0,0 ,0,0,0 ,0,0], \n",
    "        \"Cmitosis\":[0,0,0 ,0,0,0 ,0,0,0 ,0,0],\n",
    "        \"isCancer\": 0\n",
    "           }\n",
    "def trainingtime(data):\n",
    "    count = 0\n",
    "    for i in data:\n",
    "        if \"?\" in i:\n",
    "            # Ignore the rows which have ? \n",
    "            continue\n",
    "        i = i[1:] # remove ID (index)\n",
    "        \n",
    "        if i[-1] == \"2\":\n",
    "            \n",
    "            trainingset[\"clump\"][int(i[0])]+=1\n",
    "            trainingset[\"uniCellSize\"][int(i[1])]+=1\n",
    "            trainingset[\"uniCellShape\"][int(i[2])]+=1\n",
    "            trainingset[\"mA\"][int(i[3])]+=1\n",
    "            trainingset[\"sECellSize\"][int(i[4])]+=1\n",
    "            trainingset[\"bareNuc\"][int(i[5])]+=1\n",
    "            trainingset[\"bChrom\"][int(i[6])]+=1\n",
    "            trainingset[\"normNuclei\"][int(i[7])]+=1\n",
    "            trainingset[\"mitosis\"][int(i[8])]+=1\n",
    "            trainingset[\"isBenign\"]+=1\n",
    "            \n",
    "        elif i[-1] == \"4\":\n",
    "            \n",
    "            trainingset[\"Cclump\"][int(i[0])]+=1\n",
    "            trainingset[\"CuniCellSize\"][int(i[1])]+=1\n",
    "            trainingset[\"CuniCellShape\"][int(i[2])]+=1\n",
    "            trainingset[\"CmA\"][int(i[3])]+=1\n",
    "            trainingset[\"CsECellSize\"][int(i[4])]+=1\n",
    "            trainingset[\"CbareNuc\"][int(i[5])]+=1\n",
    "            trainingset[\"CbChrom\"][int(i[6])]+=1\n",
    "            trainingset[\"CnormNuclei\"][int(i[7])]+=1\n",
    "            trainingset[\"Cmitosis\"][int(i[8])]+=1\n",
    "            trainingset[\"isCancer\"]+=1\n",
    "            \n",
    "        count+=1\n",
    "            \n",
    "    return trainingset, count\n",
    "            \n",
    "        \n",
    "trainingset, count = trainingtime(train)\n",
    "trainingset"
   ]
  },
  {
   "cell_type": "code",
   "execution_count": 7,
   "metadata": {
    "collapsed": false
   },
   "outputs": [
    {
     "name": "stdout",
     "output_type": "stream",
     "text": [
      "0.970802919708\n"
     ]
    }
   ],
   "source": [
    "def run(test, trainingset, count):\n",
    "    prior = 1. / count\n",
    "    counter = 0\n",
    "    precision = 0\n",
    "    for i in test:\n",
    "        if \"?\" in i:\n",
    "            # Ignore the rows which have ? \n",
    "            continue\n",
    "        i = i[1:] # remove ID (index)\n",
    "        \n",
    "        Cancerprob = 0\n",
    "        Nocancerprob = 0\n",
    "        \n",
    "        Nocancerprob += trainingset[\"clump\"][int(i[0])]\n",
    "        Nocancerprob += trainingset[\"uniCellSize\"][int(i[1])]\n",
    "        Nocancerprob += trainingset[\"uniCellShape\"][int(i[2])]\n",
    "        Nocancerprob += trainingset[\"mA\"][int(i[3])]\n",
    "        Nocancerprob += trainingset[\"sECellSize\"][int(i[4])]\n",
    "        Nocancerprob += trainingset[\"bareNuc\"][int(i[5])]\n",
    "        Nocancerprob += trainingset[\"bChrom\"][int(i[6])]\n",
    "        Nocancerprob += trainingset[\"normNuclei\"][int(i[7])]\n",
    "        Nocancerprob += trainingset[\"mitosis\"][int(i[8])]\n",
    "        Nocancerprob = np.log(Nocancerprob * prior)\n",
    "            \n",
    "        Cancerprob += trainingset[\"Cclump\"][int(i[0])]\n",
    "        Cancerprob += trainingset[\"CuniCellSize\"][int(i[1])]\n",
    "        Cancerprob += trainingset[\"CuniCellShape\"][int(i[2])]\n",
    "        Cancerprob += trainingset[\"CmA\"][int(i[3])]\n",
    "        Cancerprob += trainingset[\"CsECellSize\"][int(i[4])]\n",
    "        Cancerprob += trainingset[\"CbareNuc\"][int(i[5])]\n",
    "        Cancerprob += trainingset[\"CbChrom\"][int(i[6])]\n",
    "        Cancerprob += trainingset[\"CnormNuclei\"][int(i[7])]\n",
    "        Cancerprob += trainingset[\"Cmitosis\"][int(i[8])]\n",
    "        Cancerprob = Cancerprob * prior # tried logging here bbut gg\n",
    "        \n",
    "        \n",
    "        if Cancerprob > Nocancerprob and i[-1] == \"4\":\n",
    "            precision+=1\n",
    "            \n",
    "        elif Nocancerprob > Cancerprob and i[-1] == \"2\":\n",
    "            precision+=1\n",
    "        counter+=1\n",
    "\n",
    "    return precision / float(counter)\n",
    "\n",
    "print run(test, trainingset, count)"
   ]
  },
  {
   "cell_type": "markdown",
   "metadata": {},
   "source": [
    "4) (Bonus) Try to do something different from what you did in 3) using your original idea. Report what you did even if it is worse than what you did in 3. If possible report why it works better/worse.\n",
    "\n",
    "Do not lookup the paper/other method just yet. I want you to develop the gut feeling in data analysis.\n",
    "\n",
    "Grading will be on scale of (meh 1%, OK? 3%, Hmm interesting 5%, Wow 10%)\n",
    "\n"
   ]
  },
  {
   "cell_type": "code",
   "execution_count": null,
   "metadata": {
    "collapsed": true
   },
   "outputs": [],
   "source": []
  }
 ],
 "metadata": {
  "anaconda-cloud": {},
  "kernelspec": {
   "display_name": "Python [default]",
   "language": "python",
   "name": "python2"
  },
  "language_info": {
   "codemirror_mode": {
    "name": "ipython",
    "version": 2
   },
   "file_extension": ".py",
   "mimetype": "text/x-python",
   "name": "python",
   "nbconvert_exporter": "python",
   "pygments_lexer": "ipython2",
   "version": "2.7.12"
  }
 },
 "nbformat": 4,
 "nbformat_minor": 0
}
