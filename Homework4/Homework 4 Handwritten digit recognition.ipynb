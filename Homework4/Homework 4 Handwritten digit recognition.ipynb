{
 "cells": [
  {
   "cell_type": "markdown",
   "metadata": {},
   "source": [
    "# Homework 4\n",
    "\n",
    "In this homework you will get to build a class to classify handwritten digit.\n",
    "\n",
    "The data is given in 'usps_resampled/usps_resampled.mat' Here is how you use the data"
   ]
  },
  {
   "cell_type": "code",
   "execution_count": 1,
   "metadata": {
    "collapsed": false
   },
   "outputs": [
    {
     "name": "stdout",
     "output_type": "stream",
     "text": [
      "['train_labels', 'test_labels', 'train_patterns', '__header__', '__globals__', 'test_patterns', '__version__']\n"
     ]
    }
   ],
   "source": [
    "%matplotlib inline\n",
    "from scipy.io import loadmat\n",
    "import numpy as np\n",
    "from matplotlib import pyplot as plt\n",
    "import matplotlib.cm as cm\n",
    "\n",
    "D = loadmat('usps_resampled/usps_resampled.mat')\n",
    "print D.keys()\n",
    "#it is a dictionary of four elements\n",
    "# train_labels for the number of each training image\n",
    "# train_patterns for the train images\n",
    "# test_labels\n",
    "# test_patterns"
   ]
  },
  {
   "cell_type": "code",
   "execution_count": 9,
   "metadata": {
    "collapsed": false
   },
   "outputs": [
    {
     "data": {
      "image/png": "[encoded data removed]",
      "text/plain": [
       "<matplotlib.figure.Figure at 0x7d98128>"
      ]
     },
     "metadata": {},
     "output_type": "display_data"
    }
   ],
   "source": [
    "#this is how you plot each image\n",
    "images = D['train_patterns']\n",
    "\n",
    "def show(img):\n",
    "    im = img.reshape(16,16) #you can try print it\n",
    "    plt.imshow(im, interpolation='nearest', cmap=cm.Greys)\n",
    "show(images[:, 0])\n"
   ]
  },
  {
   "cell_type": "code",
   "execution_count": 14,
   "metadata": {
    "collapsed": false
   },
   "outputs": [
    {
     "name": "stdout",
     "output_type": "stream",
     "text": [
      "[-1 -1 -1 -1 -1 -1  1 -1 -1 -1]\n",
      "1\n",
      "[6 0 1 ..., 9 2 7]\n"
     ]
    }
   ],
   "source": [
    "#This is how label is read\n",
    "labels = D['train_labels'].T\n",
    "#this is how they represent 6\n",
    "print labels[0] \n",
    "print labels[0,6]\n",
    "\n",
    "def make_class(c):\n",
    "    return list(c).index(1)\n",
    "labels = np.array([make_class(lb) for lb in labels])\n",
    "print labels #more readable"
   ]
  },
  {
   "cell_type": "code",
   "execution_count": null,
   "metadata": {
    "collapsed": true
   },
   "outputs": [],
   "source": []
  },
  {
   "cell_type": "markdown",
   "metadata": {},
   "source": [
    "1 ) Find principal components of the train dataset. Print out first 5 vectors."
   ]
  },
  {
   "cell_type": "code",
   "execution_count": 16,
   "metadata": {
    "collapsed": false
   },
   "outputs": [
    {
     "data": {
      "text/plain": [
       "array([[-0.99999988, -0.99999982, -0.99999988, ..., -0.9999997 ,\n",
       "        -0.99997759, -0.99993992],\n",
       "       [-0.9999997 , -0.99999845, -0.99999988, ..., -0.99996912,\n",
       "        -0.99797225, -0.99719542],\n",
       "       [-0.99998665, -0.99989259, -0.99999988, ..., -0.9983288 ,\n",
       "        -0.96142083, -0.95687085],\n",
       "       [-0.99946642, -0.99628389, -0.99998736, ..., -0.97369099,\n",
       "        -0.75660157, -0.77581352],\n",
       "       [-0.99005735, -0.94368517, -0.99870199, ..., -0.85942686,\n",
       "        -0.31030527, -0.53804946]])"
      ]
     },
     "execution_count": 16,
     "metadata": {},
     "output_type": "execute_result"
    }
   ],
   "source": [
    "images[:5]"
   ]
  },
  {
   "cell_type": "markdown",
   "metadata": {},
   "source": [
    "2) Plot the variance explained by $k$ principal with largest variance VS $k$. The variance explained by $k$ eigenvector is given by (remember that you can add the variance).\n",
    "$$ \\text{Explained Variance} = \\frac{\\displaystyle\\sum_{i=0}^k \\lambda_i}{\\displaystyle\\sum_{i=0}^n \\lambda_i}$$\n",
    "\n",
    "where $n$ is the total number of principal component"
   ]
  },
  {
   "cell_type": "code",
   "execution_count": 17,
   "metadata": {
    "collapsed": true
   },
   "outputs": [],
   "source": [
    "def norm(xs):\n",
    "    mean = np.mean(xs, axis = 1)\n",
    "    norm_xs = xs - mean[:,np.newaxis]\n",
    "    norm_xs = norm_xs / np.std(norm_xs, axis = 1)[:, np.newaxis]\n",
    "    return norm_xs"
   ]
  },
  {
   "cell_type": "code",
   "execution_count": 31,
   "metadata": {
    "collapsed": false
   },
   "outputs": [
    {
     "data": {
      "text/plain": [
       "[<matplotlib.lines.Line2D at 0x7d76550>]"
      ]
     },
     "execution_count": 31,
     "metadata": {},
     "output_type": "execute_result"
    },
    {
     "data": {
      "image/png": "[encoded data removed]",
      "text/plain": [
       "<matplotlib.figure.Figure at 0xaa41cc0>"
      ]
     },
     "metadata": {},
     "output_type": "display_data"
    }
   ],
   "source": [
    "norm_images = norm(images)\n",
    "cov = np.cov(norm_images)\n",
    "evals, evecs = np.linalg.eigh(cov)\n",
    "evals = evals[::-1]\n",
    "evecs = evecs[::-1]\n",
    "sum_ = sum(evals)\n",
    "xs = [k for k in range(len(evals))]\n",
    "ys = [(sum(evals[:k]) / sum_) for k in xs]\n",
    "plt.plot(xs,ys)"
   ]
  },
  {
   "cell_type": "markdown",
   "metadata": {},
   "source": [
    "3) If we want to explain 85% of the variance how many principal component do we need."
   ]
  },
  {
   "cell_type": "code",
   "execution_count": 36,
   "metadata": {
    "collapsed": false
   },
   "outputs": [
    {
     "name": "stdout",
     "output_type": "stream",
     "text": [
      "20\n"
     ]
    }
   ],
   "source": [
    "for i, x in enumerate(ys):\n",
    "    if x > 0.85:\n",
    "        print i\n",
    "        break"
   ]
  },
  {
   "cell_type": "markdown",
   "metadata": {},
   "source": [
    "4) For all train images find the feature in new coordinate. The number of principal component you should use is what you found in 3)"
   ]
  },
  {
   "cell_type": "code",
   "execution_count": 39,
   "metadata": {
    "collapsed": false
   },
   "outputs": [
    {
     "data": {
      "text/plain": [
       "array([-0.54609889,  1.68242025, -0.39823105, ..., -0.02624273,\n",
       "       -0.95832921, -0.60372831])"
      ]
     },
     "execution_count": 39,
     "metadata": {},
     "output_type": "execute_result"
    }
   ],
   "source": [
    "new_feature_train = np.dot(evecs[:20], norm_images)\n",
    "new_feature_train[0]"
   ]
  },
  {
   "cell_type": "markdown",
   "metadata": {},
   "source": [
    "5) We want to classify this with ECOC using One VS One matrix. \n",
    "\n",
    "Use scikit learn(make sure you are using recent version) to do this. Try use SVM(any kernel you want). We will learn how the SVM magic work later. \n",
    "\n",
    "http://scikit-learn.org/stable/modules/svm.html\n",
    "\n",
    "Find E_out from your test data set."
   ]
  },
  {
   "cell_type": "code",
   "execution_count": 40,
   "metadata": {
    "collapsed": true
   },
   "outputs": [],
   "source": [
    "from sklearn import svm"
   ]
  },
  {
   "cell_type": "code",
   "execution_count": 44,
   "metadata": {
    "collapsed": false
   },
   "outputs": [
    {
     "name": "stdout",
     "output_type": "stream",
     "text": [
      "[LibSVM]"
     ]
    },
    {
     "data": {
      "text/plain": [
       "SVC(C=1.0, cache_size=200, class_weight=None, coef0=0.0,\n",
       "  decision_function_shape='ovo', degree=3, gamma='auto', kernel='rbf',\n",
       "  max_iter=-1, probability=False, random_state=None, shrinking=True,\n",
       "  tol=0.001, verbose=True)"
      ]
     },
     "execution_count": 44,
     "metadata": {},
     "output_type": "execute_result"
    }
   ],
   "source": [
    "s = svm.SVC(decision_function_shape=\"ovo\", verbose = True)\n",
    "s.fit(new_feature_train.T, labels)"
   ]
  },
  {
   "cell_type": "code",
   "execution_count": 57,
   "metadata": {
    "collapsed": false
   },
   "outputs": [],
   "source": [
    "norm_test_images = norm(D['test_patterns'])\n",
    "test_labels = D['test_labels'].T\n",
    "test_labels = np.array([make_class(lb) for lb in test_labels])\n",
    "new_feature_test = np.dot(evecs[:20], norm_test_images) # getting the new feature\n",
    "\n",
    "_, nimages = new_feature_test.shape"
   ]
  },
  {
   "cell_type": "code",
   "execution_count": 58,
   "metadata": {
    "collapsed": false
   },
   "outputs": [
    {
     "name": "stdout",
     "output_type": "stream",
     "text": [
      "E out = 0.916326091633\n"
     ]
    }
   ],
   "source": [
    "right = 0.\n",
    "wrong = 0.\n",
    "\n",
    "for i in range(nimages):\n",
    "    p = s.predict(new_feature_test[:,i].reshape(1, -1))[0]\n",
    "    if p == test_labels[i]:\n",
    "        right+=1\n",
    "    else:\n",
    "        wrong+=1\n",
    "print \"E out =\", right / (right + wrong)"
   ]
  },
  {
   "cell_type": "code",
   "execution_count": null,
   "metadata": {
    "collapsed": true
   },
   "outputs": [],
   "source": []
  }
 ],
 "metadata": {
  "anaconda-cloud": {},
  "kernelspec": {
   "display_name": "Python [default]",
   "language": "python",
   "name": "python2"
  },
  "language_info": {
   "codemirror_mode": {
    "name": "ipython",
    "version": 2
   },
   "file_extension": ".py",
   "mimetype": "text/x-python",
   "name": "python",
   "nbconvert_exporter": "python",
   "pygments_lexer": "ipython2",
   "version": "2.7.12"
  }
 },
 "nbformat": 4,
 "nbformat_minor": 0
}
