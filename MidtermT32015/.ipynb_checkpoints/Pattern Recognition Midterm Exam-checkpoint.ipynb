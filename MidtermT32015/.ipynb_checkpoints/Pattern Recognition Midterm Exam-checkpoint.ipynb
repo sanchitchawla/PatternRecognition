{
 "cells": [
  {
   "cell_type": "code",
   "execution_count": 1,
   "metadata": {
    "collapsed": false
   },
   "outputs": [],
   "source": [
    "%matplotlib inline\n",
    "import numpy as np\n",
    "from IPython.display import HTML, display\n",
    "from matplotlib import pyplot as plt\n",
    "from scipy.optimize import minimize, fmin\n",
    "import math"
   ]
  },
  {
   "cell_type": "markdown",
   "metadata": {},
   "source": [
    "# Instruction\n",
    "\n",
    "5 Problem 100 points each. Full score = 450.\n",
    "\n",
    "Open book, open notes, open google, open stackoverflow, open exercise, open homework. No chat though.\n",
    "\n",
    "All I ask is just don't abuse it.\n",
    "\n",
    "Show your work so I can give partial credits."
   ]
  },
  {
   "cell_type": "markdown",
   "metadata": {},
   "source": [
    "# 1. Cancer Classifier"
   ]
  },
  {
   "cell_type": "markdown",
   "metadata": {},
   "source": [
    "Let us suppose a doctor wants to find a quick way to figure out whether a tumor is a cancerous or benign. So he collect the data of\n",
    "\n",
    "- Volume (0:Small, 1:Medium, 2: Large)\n",
    "- Color (0:Red, 1:Brown, 2:Black)\n",
    "- Density (0:Light, 1:Dense)\n",
    "- Lab Result (0:Benign, 1:Cancerous)\n",
    "\n",
    "The data was collect only on those who passed preliminary screening test. The Data is given below."
   ]
  },
  {
   "cell_type": "markdown",
   "metadata": {},
   "source": [
    "<table>\n",
    "<tr>\n",
    "<td>No</td>\n",
    "<td>Volume</td>\n",
    "<td>Color</td>\n",
    "<td>Density</td>\n",
    "<td>Result</td>\n",
    "</tr>\n",
    "<tr>\n",
    "<td>1</td>\n",
    "<td>Large</td>\n",
    "<td>Red</td>\n",
    "<td>Light</td>\n",
    "<td>Cancer</td>\n",
    "</tr>\n",
    "<tr>\n",
    "<td>2</td>\n",
    "<td>Large</td>\n",
    "<td>Red</td>\n",
    "<td>Dense</td>\n",
    "<td>Benign</td>\n",
    "</tr>\n",
    "<tr>\n",
    "<td>3</td>\n",
    "<td>Medium</td>\n",
    "<td>Red</td>\n",
    "<td>Dense</td>\n",
    "<td>Benign</td>\n",
    "</tr>\n",
    "<tr>\n",
    "<td>4</td>\n",
    "<td>Small</td>\n",
    "<td>Red</td>\n",
    "<td>Dense</td>\n",
    "<td>Benign</td>\n",
    "</tr>\n",
    "<tr>\n",
    "<td>5</td>\n",
    "<td>Medium</td>\n",
    "<td>Brown</td>\n",
    "<td>Dense</td>\n",
    "<td>Cancer</td>\n",
    "</tr>\n",
    "<tr>\n",
    "<td>6</td>\n",
    "<td>Large</td>\n",
    "<td>Black</td>\n",
    "<td>Dense</td>\n",
    "<td>Benign</td>\n",
    "</tr>\n",
    "<tr>\n",
    "<td>7</td>\n",
    "<td>Medium</td>\n",
    "<td>Brown</td>\n",
    "<td>Dense</td>\n",
    "<td>Cancer</td>\n",
    "</tr>\n",
    "<tr>\n",
    "<td>8</td>\n",
    "<td>Small</td>\n",
    "<td>Red</td>\n",
    "<td>Light</td>\n",
    "<td>Cancer</td>\n",
    "</tr>\n",
    "<tr>\n",
    "<td>9</td>\n",
    "<td>Small</td>\n",
    "<td>Black</td>\n",
    "<td>Dense</td>\n",
    "<td>Benign</td>\n",
    "</tr>\n",
    "<tr>\n",
    "<td>10</td>\n",
    "<td>Large</td>\n",
    "<td>Red</td>\n",
    "<td>Light</td>\n",
    "<td>Benign</td>\n",
    "</tr>\n",
    "<tr>\n",
    "<td>11</td>\n",
    "<td>Large</td>\n",
    "<td>Brown</td>\n",
    "<td>Light</td>\n",
    "<td>Cancer</td>\n",
    "</tr>\n",
    "<tr>\n",
    "<td>12</td>\n",
    "<td>Medium</td>\n",
    "<td>Brown</td>\n",
    "<td>Dense</td>\n",
    "<td>Cancer</td>\n",
    "</tr>\n",
    "<tr>\n",
    "<td>13</td>\n",
    "<td>Small</td>\n",
    "<td>Red</td>\n",
    "<td>Dense</td>\n",
    "<td>Cancer</td>\n",
    "</tr>\n",
    "<tr>\n",
    "<td>14</td>\n",
    "<td>Small</td>\n",
    "<td>Red</td>\n",
    "<td>Light</td>\n",
    "<td>Cancer</td>\n",
    "</tr>\n",
    "<tr>\n",
    "<td>15</td>\n",
    "<td>Medium</td>\n",
    "<td>Red</td>\n",
    "<td>Dense</td>\n",
    "<td>Benign</td>\n",
    "</tr>\n",
    "</table>"
   ]
  },
  {
   "cell_type": "code",
   "execution_count": 2,
   "metadata": {
    "collapsed": true
   },
   "outputs": [],
   "source": [
    "#for those of you who don't want to count by hands here is the data\n",
    "data = [[1, 'Medium', 'Red', 'Dense', 'Benign'],\n",
    " [2, 'Large', 'Red', 'Light', 'Benign'],\n",
    " [3, 'Large', 'Red', 'Dense', 'Cancer'],\n",
    " [4, 'Large', 'Brown', 'Light', 'Cancer'],\n",
    " [5, 'Large', 'Red', 'Dense', 'Cancer'],\n",
    " [6, 'Small', 'Black', 'Dense', 'Benign'],\n",
    " [7, 'Small', 'Black', 'Dense', 'Cancer'],\n",
    " [8, 'Large', 'Brown', 'Light', 'Cancer'],\n",
    " [9, 'Medium', 'Red', 'Dense', 'Benign'],\n",
    " [10, 'Medium', 'Brown', 'Light', 'Cancer'],\n",
    " [11, 'Small', 'Brown', 'Light', 'Cancer'],\n",
    " [12, 'Small', 'Black', 'Light', 'Cancer'],\n",
    " [13, 'Large', 'Red', 'Dense', 'Benign'],\n",
    " [14, 'Small', 'Red', 'Light', 'Benign'],\n",
    " [15, 'Large', 'Red', 'Light', 'Benign']]"
   ]
  },
  {
   "cell_type": "markdown",
   "metadata": {},
   "source": [
    "1) Find $P(Cancer | Red)$."
   ]
  },
  {
   "cell_type": "code",
   "execution_count": null,
   "metadata": {
    "collapsed": true
   },
   "outputs": [],
   "source": []
  },
  {
   "cell_type": "markdown",
   "metadata": {},
   "source": [
    "2) Find $P(Red | Cancer)$."
   ]
  },
  {
   "cell_type": "code",
   "execution_count": null,
   "metadata": {
    "collapsed": true
   },
   "outputs": [],
   "source": []
  },
  {
   "cell_type": "markdown",
   "metadata": {},
   "source": [
    "3) Find $P(Red)$"
   ]
  },
  {
   "cell_type": "code",
   "execution_count": null,
   "metadata": {
    "collapsed": true
   },
   "outputs": [],
   "source": []
  },
  {
   "cell_type": "markdown",
   "metadata": {},
   "source": [
    "4) Find $P(Cancer)$"
   ]
  },
  {
   "cell_type": "code",
   "execution_count": null,
   "metadata": {
    "collapsed": true
   },
   "outputs": [],
   "source": []
  },
  {
   "cell_type": "markdown",
   "metadata": {},
   "source": [
    "5) Suppose that we want to build a classifier to diagnose those patient that comes to the clinic and pass preliminary screening test. Which prior should we use and why?"
   ]
  },
  {
   "cell_type": "code",
   "execution_count": null,
   "metadata": {
    "collapsed": true
   },
   "outputs": [],
   "source": []
  },
  {
   "cell_type": "markdown",
   "metadata": {},
   "source": [
    "6) If we were to build a classifier to be use with *general population* whom are not necessarily pass the preliminary test, do we need to change the prior? Why?"
   ]
  },
  {
   "cell_type": "code",
   "execution_count": null,
   "metadata": {
    "collapsed": true
   },
   "outputs": [],
   "source": []
  },
  {
   "cell_type": "markdown",
   "metadata": {},
   "source": [
    "7) For condition given in 5) Use Bayes Classifier to find the probability that a Red, Large Dense Tumor is cancecerous. Show your work."
   ]
  },
  {
   "cell_type": "code",
   "execution_count": null,
   "metadata": {
    "collapsed": true
   },
   "outputs": [],
   "source": []
  },
  {
   "cell_type": "markdown",
   "metadata": {},
   "source": [
    "8) In picking a probability cutoff, which one should we avoid more false positive or false negative. (Positive=cancer) Why?"
   ]
  },
  {
   "cell_type": "code",
   "execution_count": null,
   "metadata": {
    "collapsed": true
   },
   "outputs": [],
   "source": []
  },
  {
   "cell_type": "markdown",
   "metadata": {},
   "source": [
    "9) Suppose the doctor go back and measure the radius of tumor(Small, Medium Large) as well. If we use Bayes Classifier, should we add radius as feature on top of what we have? Why?"
   ]
  },
  {
   "cell_type": "code",
   "execution_count": null,
   "metadata": {
    "collapsed": true
   },
   "outputs": [],
   "source": []
  },
  {
   "cell_type": "markdown",
   "metadata": {},
   "source": [
    "# 2. Coding up Bayes"
   ]
  },
  {
   "cell_type": "markdown",
   "metadata": {},
   "source": [
    "1 ) The data for situation in 1.5) is given in cancer.csv. The columns are the following\n",
    "\n",
    "- Volume (0:Small, 1:Medium, 2: Large)\n",
    "- Color (0:Red, 1:Brown, 2:Black)\n",
    "- Density (0:Light, 1:Dense)\n",
    "- Lab Result (0:Benign, 1:Cancerous)\n",
    "\n",
    "Build Bayes classifier(you will need this for part 2) and find the probability that a Red, Large Dense Tumor is cancecerous.\n"
   ]
  },
  {
   "cell_type": "code",
   "execution_count": null,
   "metadata": {
    "collapsed": true
   },
   "outputs": [],
   "source": []
  },
  {
   "cell_type": "markdown",
   "metadata": {},
   "source": [
    "2) Plot ROC Curve for the classifier you build in previous part. (Just reuse training data). Also identify which corner or ROC curve is a perfect classifier. \n",
    "\n",
    "Be sure to label your axis 'False Positive', 'False Negative', 'True Positive', 'True Negative'. Depending on what you plot. The methods for setting axis label is `plt.xlabel`,`plt.ylabel`."
   ]
  },
  {
   "cell_type": "code",
   "execution_count": null,
   "metadata": {
    "collapsed": true
   },
   "outputs": [],
   "source": []
  },
  {
   "cell_type": "markdown",
   "metadata": {},
   "source": [
    "# 3. Regression + Regularization"
   ]
  },
  {
   "cell_type": "markdown",
   "metadata": {},
   "source": [
    "Consider the following data points."
   ]
  },
  {
   "cell_type": "code",
   "execution_count": 3,
   "metadata": {
    "collapsed": false
   },
   "outputs": [
    {
     "data": {
      "image/png": "[encoded data removed]",
      "text/plain": [
       "<matplotlib.figure.Figure at 0x10679ac90>"
      ]
     },
     "metadata": {},
     "output_type": "display_data"
    }
   ],
   "source": [
    "xs = np.array([ 0.        ,  0.05263158,  0.10526316,  0.15789474,  0.21052632,\n",
    "        0.26315789,  0.31578947,  0.36842105,  0.42105263,  0.47368421,\n",
    "        0.52631579,  0.57894737,  0.63157895,  0.68421053,  0.73684211,\n",
    "        0.78947368,  0.84210526,  0.89473684,  0.94736842,  1.        ])\n",
    "\n",
    "ys = np.array([ 1.43328957,  0.79286175,  1.23121202,  1.4966537 ,  1.20046242,\n",
    "        0.92179229,  1.72712153,  1.70387714,  1.19614535,  1.46158381,\n",
    "        1.69776375,  1.51873941,  2.14165851,  1.72157696,  2.06161889,\n",
    "        2.33314082,  2.54957117,  3.07761039,  2.89394842,  3.73597637])\n",
    "plt.plot(xs,ys, 'or')\n",
    "plt.grid(True)"
   ]
  },
  {
   "cell_type": "markdown",
   "metadata": {},
   "source": [
    "1) If we fit the following data with a straight line, \n",
    " - Are we overfitting or underfitting? \n",
    " - Would $E_{in}$ be high or low?\n",
    " - Would $E_{out}$ be high or low?"
   ]
  },
  {
   "cell_type": "code",
   "execution_count": null,
   "metadata": {
    "collapsed": true
   },
   "outputs": [],
   "source": []
  },
  {
   "cell_type": "markdown",
   "metadata": {},
   "source": [
    "2) If we fit the following data with a polynomial of degree 20, \n",
    " - Are we overfitting or underfitting? \n",
    " - Would $E_{in}$ be high or low?\n",
    " - Would $E_{out}$ be high or low?"
   ]
  },
  {
   "cell_type": "code",
   "execution_count": null,
   "metadata": {
    "collapsed": true
   },
   "outputs": [],
   "source": []
  },
  {
   "cell_type": "markdown",
   "metadata": {},
   "source": [
    "3) Suppose we fit it with polynomial of degree 20 with regularization term.\n",
    " - What happen if the regularization constant($\\lambda$) is too large? Why?\n",
    " - What happen if the regularization constant($\\lambda$) is too small? Why?"
   ]
  },
  {
   "cell_type": "code",
   "execution_count": null,
   "metadata": {
    "collapsed": true
   },
   "outputs": [],
   "source": []
  },
  {
   "cell_type": "markdown",
   "metadata": {},
   "source": [
    "4) What should we do to pick regularization constant ($\\lambda$)?"
   ]
  },
  {
   "cell_type": "code",
   "execution_count": null,
   "metadata": {
    "collapsed": true
   },
   "outputs": [],
   "source": []
  },
  {
   "cell_type": "markdown",
   "metadata": {},
   "source": [
    "5) Why is it that regularization term starts at $w_1$ instead of $w_0$?"
   ]
  },
  {
   "cell_type": "code",
   "execution_count": null,
   "metadata": {
    "collapsed": true
   },
   "outputs": [],
   "source": []
  },
  {
   "cell_type": "markdown",
   "metadata": {},
   "source": [
    "6) Fit the data with polynomial of degree 20 with $\\lambda=0.01$."
   ]
  },
  {
   "cell_type": "code",
   "execution_count": null,
   "metadata": {
    "collapsed": true
   },
   "outputs": [],
   "source": []
  },
  {
   "cell_type": "markdown",
   "metadata": {},
   "source": [
    "# 4. Logistic Regression"
   ]
  },
  {
   "cell_type": "markdown",
   "metadata": {},
   "source": [
    "1) Supposed that we have 2 data points.\n",
    "\n",
    "- Red(+1): $x_0 = 0.5$, $x_1 = 0.2$\n",
    "- Blue(-1): $x_0 = 0.2$, $x_1 = 0.3$\n",
    "\n",
    "What is the **likelihood** of getting these two data points if our hypothesis is $\\vec{w_1} = [1,2,3]$"
   ]
  },
  {
   "cell_type": "code",
   "execution_count": null,
   "metadata": {
    "collapsed": true
   },
   "outputs": [],
   "source": []
  },
  {
   "cell_type": "markdown",
   "metadata": {},
   "source": [
    "2) What is the **likelihood** of getting these two data points if our hypothesis is $\\vec{w_2} = [-1,-2,-3]$"
   ]
  },
  {
   "cell_type": "code",
   "execution_count": null,
   "metadata": {
    "collapsed": true
   },
   "outputs": [],
   "source": []
  },
  {
   "cell_type": "markdown",
   "metadata": {},
   "source": [
    "3) Which $\\vec{w}$ is better? Explain."
   ]
  },
  {
   "cell_type": "code",
   "execution_count": null,
   "metadata": {
    "collapsed": true
   },
   "outputs": [],
   "source": []
  },
  {
   "cell_type": "markdown",
   "metadata": {},
   "source": [
    "# 5. One more thing\n",
    "\n",
    "Consider the following data points. The line separating the two dataset looks something like\n",
    "$$ax_0 + b \\sin x_0 + cx_1 + d = 0$$\n",
    "\n",
    "for some constants $a, b, c, d$.\n",
    "\n",
    "Build a **logistic** classifier that performs better than 85% on the training data.\n",
    "\n",
    "Make sure you demonstrate that your classifier works more better than 85% on training data.\n",
    "\n",
    "**Be careful**, the classes given in the file are 0 and 1."
   ]
  },
  {
   "cell_type": "code",
   "execution_count": 4,
   "metadata": {
    "collapsed": false
   },
   "outputs": [
    {
     "data": {
      "text/plain": [
       "<matplotlib.text.Text at 0x106917d10>"
      ]
     },
     "execution_count": 4,
     "metadata": {},
     "output_type": "execute_result"
    },
    {
     "data": {
      "image/png": "[encoded data removed]",
      "text/plain": [
       "<matplotlib.figure.Figure at 0x10679acd0>"
      ]
     },
     "metadata": {},
     "output_type": "display_data"
    }
   ],
   "source": [
    "arr = np.genfromtxt('onemorething.csv', delimiter=',')\n",
    "x0s = arr[:, 0]\n",
    "x1s = arr[:, 1]\n",
    "cls = arr[:, 2]\n",
    "plt.plot(x0s[cls==0], x1s[cls==0], '.r', alpha=0.5)\n",
    "plt.plot(x0s[cls==1], x1s[cls==1], '.b', alpha=0.5)\n",
    "plt.xlabel('x0')\n",
    "plt.ylabel('x1')"
   ]
  },
  {
   "cell_type": "code",
   "execution_count": null,
   "metadata": {
    "collapsed": true
   },
   "outputs": [],
   "source": []
  }
 ],
 "metadata": {
  "anaconda-cloud": {},
  "kernelspec": {
   "display_name": "Python [default]",
   "language": "python",
   "name": "python2"
  },
  "language_info": {
   "codemirror_mode": {
    "name": "ipython",
    "version": 2
   },
   "file_extension": ".py",
   "mimetype": "text/x-python",
   "name": "python",
   "nbconvert_exporter": "python",
   "pygments_lexer": "ipython2",
   "version": "2.7.12"
  }
 },
 "nbformat": 4,
 "nbformat_minor": 0
}
