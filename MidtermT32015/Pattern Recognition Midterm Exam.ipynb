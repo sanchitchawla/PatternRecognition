{
 "cells": [
  {
   "cell_type": "code",
   "execution_count": 1,
   "metadata": {
    "collapsed": false
   },
   "outputs": [],
   "source": [
    "%matplotlib inline\n",
    "import numpy as np\n",
    "from IPython.display import HTML, display\n",
    "from matplotlib import pyplot as plt\n",
    "from scipy.optimize import minimize, fmin\n",
    "import math"
   ]
  },
  {
   "cell_type": "markdown",
   "metadata": {},
   "source": [
    "# Instruction\n",
    "\n",
    "5 Problem 100 points each. Full score = 450.\n",
    "\n",
    "Open book, open notes, open google, open stackoverflow, open exercise, open homework. No chat though.\n",
    "\n",
    "All I ask is just don't abuse it.\n",
    "\n",
    "Show your work so I can give partial credits."
   ]
  },
  {
   "cell_type": "markdown",
   "metadata": {},
   "source": [
    "# 1. Cancer Classifier"
   ]
  },
  {
   "cell_type": "markdown",
   "metadata": {},
   "source": [
    "Let us suppose a doctor wants to find a quick way to figure out whether a tumor is a cancerous or benign. So he collect the data of\n",
    "\n",
    "- Volume (0:Small, 1:Medium, 2: Large)\n",
    "- Color (0:Red, 1:Brown, 2:Black)\n",
    "- Density (0:Light, 1:Dense)\n",
    "- Lab Result (0:Benign, 1:Cancerous)\n",
    "\n",
    "The data was collect only on those who passed preliminary screening test. The Data is given below."
   ]
  },
  {
   "cell_type": "markdown",
   "metadata": {},
   "source": [
    "<table>\n",
    "<tr>\n",
    "<td>No</td>\n",
    "<td>Volume</td>\n",
    "<td>Color</td>\n",
    "<td>Density</td>\n",
    "<td>Result</td>\n",
    "</tr>\n",
    "<tr>\n",
    "<td>1</td>\n",
    "<td>Large</td>\n",
    "<td>Red</td>\n",
    "<td>Light</td>\n",
    "<td>Cancer</td>\n",
    "</tr>\n",
    "<tr>\n",
    "<td>2</td>\n",
    "<td>Large</td>\n",
    "<td>Red</td>\n",
    "<td>Dense</td>\n",
    "<td>Benign</td>\n",
    "</tr>\n",
    "<tr>\n",
    "<td>3</td>\n",
    "<td>Medium</td>\n",
    "<td>Red</td>\n",
    "<td>Dense</td>\n",
    "<td>Benign</td>\n",
    "</tr>\n",
    "<tr>\n",
    "<td>4</td>\n",
    "<td>Small</td>\n",
    "<td>Red</td>\n",
    "<td>Dense</td>\n",
    "<td>Benign</td>\n",
    "</tr>\n",
    "<tr>\n",
    "<td>5</td>\n",
    "<td>Medium</td>\n",
    "<td>Brown</td>\n",
    "<td>Dense</td>\n",
    "<td>Cancer</td>\n",
    "</tr>\n",
    "<tr>\n",
    "<td>6</td>\n",
    "<td>Large</td>\n",
    "<td>Black</td>\n",
    "<td>Dense</td>\n",
    "<td>Benign</td>\n",
    "</tr>\n",
    "<tr>\n",
    "<td>7</td>\n",
    "<td>Medium</td>\n",
    "<td>Brown</td>\n",
    "<td>Dense</td>\n",
    "<td>Cancer</td>\n",
    "</tr>\n",
    "<tr>\n",
    "<td>8</td>\n",
    "<td>Small</td>\n",
    "<td>Red</td>\n",
    "<td>Light</td>\n",
    "<td>Cancer</td>\n",
    "</tr>\n",
    "<tr>\n",
    "<td>9</td>\n",
    "<td>Small</td>\n",
    "<td>Black</td>\n",
    "<td>Dense</td>\n",
    "<td>Benign</td>\n",
    "</tr>\n",
    "<tr>\n",
    "<td>10</td>\n",
    "<td>Large</td>\n",
    "<td>Red</td>\n",
    "<td>Light</td>\n",
    "<td>Benign</td>\n",
    "</tr>\n",
    "<tr>\n",
    "<td>11</td>\n",
    "<td>Large</td>\n",
    "<td>Brown</td>\n",
    "<td>Light</td>\n",
    "<td>Cancer</td>\n",
    "</tr>\n",
    "<tr>\n",
    "<td>12</td>\n",
    "<td>Medium</td>\n",
    "<td>Brown</td>\n",
    "<td>Dense</td>\n",
    "<td>Cancer</td>\n",
    "</tr>\n",
    "<tr>\n",
    "<td>13</td>\n",
    "<td>Small</td>\n",
    "<td>Red</td>\n",
    "<td>Dense</td>\n",
    "<td>Cancer</td>\n",
    "</tr>\n",
    "<tr>\n",
    "<td>14</td>\n",
    "<td>Small</td>\n",
    "<td>Red</td>\n",
    "<td>Light</td>\n",
    "<td>Cancer</td>\n",
    "</tr>\n",
    "<tr>\n",
    "<td>15</td>\n",
    "<td>Medium</td>\n",
    "<td>Red</td>\n",
    "<td>Dense</td>\n",
    "<td>Benign</td>\n",
    "</tr>\n",
    "</table>"
   ]
  },
  {
   "cell_type": "code",
   "execution_count": 2,
   "metadata": {
    "collapsed": true
   },
   "outputs": [],
   "source": [
    "#for those of you who don't want to count by hands here is the data\n",
    "data = [[1, 'Medium', 'Red', 'Dense', 'Benign'],\n",
    " [2, 'Large', 'Red', 'Light', 'Benign'],\n",
    " [3, 'Large', 'Red', 'Dense', 'Cancer'],\n",
    " [4, 'Large', 'Brown', 'Light', 'Cancer'],\n",
    " [5, 'Large', 'Red', 'Dense', 'Cancer'],\n",
    " [6, 'Small', 'Black', 'Dense', 'Benign'],\n",
    " [7, 'Small', 'Black', 'Dense', 'Cancer'],\n",
    " [8, 'Large', 'Brown', 'Light', 'Cancer'],\n",
    " [9, 'Medium', 'Red', 'Dense', 'Benign'],\n",
    " [10, 'Medium', 'Brown', 'Light', 'Cancer'],\n",
    " [11, 'Small', 'Brown', 'Light', 'Cancer'],\n",
    " [12, 'Small', 'Black', 'Light', 'Cancer'],\n",
    " [13, 'Large', 'Red', 'Dense', 'Benign'],\n",
    " [14, 'Small', 'Red', 'Light', 'Benign'],\n",
    " [15, 'Large', 'Red', 'Light', 'Benign']]"
   ]
  },
  {
   "cell_type": "markdown",
   "metadata": {},
   "source": [
    "1) Find $P(Cancer | Red)$."
   ]
  },
  {
   "cell_type": "code",
   "execution_count": 3,
   "metadata": {
    "collapsed": false
   },
   "outputs": [
    {
     "data": {
      "text/plain": [
       "0.25"
      ]
     },
     "execution_count": 3,
     "metadata": {},
     "output_type": "execute_result"
    }
   ],
   "source": [
    "CRcount = 0.\n",
    "rcount = 0.\n",
    "for i in data:\n",
    "    i = i[1:]\n",
    "    if i[1] == \"Red\":\n",
    "        rcount +=1\n",
    "    if i[1] == \"Red\" and i[-1] == \"Cancer\":\n",
    "        CRcount+=1\n",
    "        \n",
    "dlen = len(data)        \n",
    "CRcount / rcount"
   ]
  },
  {
   "cell_type": "markdown",
   "metadata": {},
   "source": [
    "2) Find $P(Red | Cancer)$."
   ]
  },
  {
   "cell_type": "code",
   "execution_count": 4,
   "metadata": {
    "collapsed": false
   },
   "outputs": [
    {
     "data": {
      "text/plain": [
       "0.25"
      ]
     },
     "execution_count": 4,
     "metadata": {},
     "output_type": "execute_result"
    }
   ],
   "source": [
    "cancount = 0.\n",
    "for i in data:\n",
    "    i = i[1:]\n",
    "    if i[-1] == \"Cancer\":\n",
    "        cancount+=1\n",
    "        \n",
    "CRcount/cancount"
   ]
  },
  {
   "cell_type": "markdown",
   "metadata": {},
   "source": [
    "3) Find $P(Red)$"
   ]
  },
  {
   "cell_type": "code",
   "execution_count": 5,
   "metadata": {
    "collapsed": false
   },
   "outputs": [
    {
     "data": {
      "text/plain": [
       "0.5333333333333333"
      ]
     },
     "execution_count": 5,
     "metadata": {},
     "output_type": "execute_result"
    }
   ],
   "source": [
    "rcount / dlen"
   ]
  },
  {
   "cell_type": "markdown",
   "metadata": {},
   "source": [
    "4) Find $P(Cancer)$"
   ]
  },
  {
   "cell_type": "code",
   "execution_count": 6,
   "metadata": {
    "collapsed": false
   },
   "outputs": [
    {
     "data": {
      "text/plain": [
       "0.5333333333333333"
      ]
     },
     "execution_count": 6,
     "metadata": {},
     "output_type": "execute_result"
    }
   ],
   "source": [
    "cancount / dlen"
   ]
  },
  {
   "cell_type": "markdown",
   "metadata": {},
   "source": [
    "5) Suppose that we want to build a classifier to diagnose those patient that comes to the clinic and pass preliminary screening test. Which prior should we use and why?"
   ]
  },
  {
   "cell_type": "code",
   "execution_count": 7,
   "metadata": {
    "collapsed": true
   },
   "outputs": [],
   "source": [
    "# since our model is trained on people who passed the preliminary test, we can use the prior from the training data"
   ]
  },
  {
   "cell_type": "markdown",
   "metadata": {},
   "source": [
    "6) If we were to build a classifier to be use with *general population* whom are not necessarily pass the preliminary test, do we need to change the prior? Why?"
   ]
  },
  {
   "cell_type": "code",
   "execution_count": 56,
   "metadata": {
    "collapsed": true
   },
   "outputs": [],
   "source": [
    "# since our model is trained on people who passed the preliminary test, we cannot use the prior from the training data\n",
    "# Maybe use 0.5 "
   ]
  },
  {
   "cell_type": "markdown",
   "metadata": {},
   "source": [
    "7) For condition given in 5) Use Bayes Classifier to find the probability that a Red, Large Dense Tumor is cancecerous. Show your work."
   ]
  },
  {
   "cell_type": "code",
   "execution_count": null,
   "metadata": {
    "collapsed": false
   },
   "outputs": [],
   "source": []
  },
  {
   "cell_type": "markdown",
   "metadata": {},
   "source": [
    "8) In picking a probability cutoff, which one should we avoid more false positive or false negative. (Positive=cancer) Why?"
   ]
  },
  {
   "cell_type": "code",
   "execution_count": 57,
   "metadata": {
    "collapsed": true
   },
   "outputs": [],
   "source": [
    "# false negative in this case because give you give someone with no cancer a cancer treatment it's still better than\n",
    "# letting go of the guy with cancer"
   ]
  },
  {
   "cell_type": "markdown",
   "metadata": {},
   "source": [
    "9) Suppose the doctor go back and measure the radius of tumor(Small, Medium Large) as well. If we use Bayes Classifier, should we add radius as feature on top of what we have? Why?"
   ]
  },
  {
   "cell_type": "code",
   "execution_count": 58,
   "metadata": {
    "collapsed": true
   },
   "outputs": [],
   "source": [
    "# yes because in reality that actually means something\n",
    "# extra features that co relate with the outcome are better"
   ]
  },
  {
   "cell_type": "markdown",
   "metadata": {},
   "source": [
    "# 2. Coding up Bayes"
   ]
  },
  {
   "cell_type": "markdown",
   "metadata": {},
   "source": [
    "1 ) The data for situation in 1.5) is given in cancer.csv. The columns are the following\n",
    "\n",
    "- Volume (0:Small, 1:Medium, 2: Large)\n",
    "- Color (0:Red, 1:Brown, 2:Black)\n",
    "- Density (0:Light, 1:Dense)\n",
    "- Lab Result (0:Benign, 1:Cancerous)\n",
    "\n",
    "Build Bayes classifier(you will need this for part 2) and find the probability that a Red, Large Dense Tumor is cancecerous.\n"
   ]
  },
  {
   "cell_type": "code",
   "execution_count": 59,
   "metadata": {
    "collapsed": false
   },
   "outputs": [
    {
     "data": {
      "text/plain": [
       "[['1.00', '1.00', '1.00', '0.00'],\n",
       " ['1.00', '2.00', '0.00', '0.00'],\n",
       " ['2.00', '1.00', '1.00', '1.00'],\n",
       " ['1.00', '2.00', '1.00', '0.00'],\n",
       " ['2.00', '0.00', '0.00', '1.00'],\n",
       " ['1.00', '2.00', '1.00', '1.00'],\n",
       " ['2.00', '1.00', '0.00', '0.00'],\n",
       " ['1.00', '1.00', '1.00', '1.00'],\n",
       " ['0.00', '0.00', '1.00', '1.00'],\n",
       " ['0.00', '0.00', '1.00', '1.00']]"
      ]
     },
     "execution_count": 59,
     "metadata": {},
     "output_type": "execute_result"
    }
   ],
   "source": [
    "def readme(filename):\n",
    "    end = []\n",
    "    with open(filename) as f:\n",
    "        for i in f:\n",
    "            end.append(i)\n",
    "    return end\n",
    "\n",
    "def cleanme(data):\n",
    "    end = []\n",
    "    for i in data:\n",
    "        i = i.rstrip('\\n')\n",
    "        i = i.split(',')\n",
    "        end += [i]\n",
    "    return end\n",
    "\n",
    "p = cleanme(readme(\"cancer.csv\"))\n",
    "p[:10] # first 10"
   ]
  },
  {
   "cell_type": "code",
   "execution_count": 60,
   "metadata": {
    "collapsed": false
   },
   "outputs": [],
   "source": [
    "dataset = {\n",
    "    \"Cvolume\" : [0,0,0],\n",
    "    \"Ccolor\"  : [0,0,0],\n",
    "    \"Cdensity\": [0,0],\n",
    "    \"isCancer\": [0,0],\n",
    "    \n",
    "    \"volume\" : [0,0,0],\n",
    "    \"color\"  : [0,0,0],\n",
    "    \"density\": [0,0],\n",
    "    \"isB\"    : [0,0]\n",
    "}\n",
    "\n",
    "def train(data):\n",
    "    cancer_count = 0\n",
    "    noncancer_count = 0\n",
    "    count = 0\n",
    "    for i in data:\n",
    "        if i[-1] == \"1.00\": \n",
    "            dataset[\"Cvolume\"][int(float(i[0]))]+=1\n",
    "            dataset[\"Ccolor\"][int(float(i[1]))]+=1\n",
    "            dataset[\"Cdensity\"][int(float(i[2]))]+=1\n",
    "            dataset[\"isCancer\"][int(float(i[3]))]+=1\n",
    "            cancer_count+=1\n",
    "            \n",
    "        elif i[-1] == \"0.00\":\n",
    "            dataset[\"volume\"][int(float(i[0]))]+=1\n",
    "            dataset[\"color\"][int(float(i[1]))]+=1\n",
    "            dataset[\"density\"][int(float(i[2]))]+=1\n",
    "            dataset[\"isB\"][int(float(i[3]))]+=1\n",
    "            noncancer_count+=1\n",
    "            \n",
    "        count+=1\n",
    "    return dataset, count, cancer_count, noncancer_count\n",
    "            \n",
    "dataset, count, cancer_count, noncancer_count = train(p)"
   ]
  },
  {
   "cell_type": "code",
   "execution_count": 61,
   "metadata": {
    "collapsed": false
   },
   "outputs": [
    {
     "data": {
      "text/plain": [
       "0.5079232693911594"
      ]
     },
     "execution_count": 61,
     "metadata": {},
     "output_type": "execute_result"
    }
   ],
   "source": [
    "def test(i, dataset, count):\n",
    "    prior = 1. / count\n",
    "    cancerprob = 0.\n",
    "    nocancerprob=0.\n",
    "\n",
    "    cancerprob += dataset[\"Cvolume\"][int(float(i[0]))]\n",
    "    cancerprob += dataset[\"Ccolor\"][int(float(i[1]))]\n",
    "    cancerprob += dataset[\"Cdensity\"][int(float(i[2]))]\n",
    "    cancerprob*= prior\n",
    "\n",
    "    nocancerprob += dataset[\"volume\"][int(float(i[0]))]\n",
    "    nocancerprob += dataset[\"color\"][int(float(i[1]))]\n",
    "    nocancerprob += dataset[\"density\"][int(float(i[2]))]\n",
    "    nocancerprob*= prior\n",
    "        \n",
    "    return cancerprob / (cancerprob + nocancerprob)\n",
    "\n",
    "testdata = [\"2.00\",\"0.00\", \"1.00\"]\n",
    "test(testdata, dataset, count)"
   ]
  },
  {
   "cell_type": "markdown",
   "metadata": {},
   "source": [
    "2) Plot ROC Curve for the classifier you build in previous part. (Just reuse training data). Also identify which corner or ROC curve is a perfect classifier. \n",
    "\n",
    "Be sure to label your axis 'False Positive', 'False Negative', 'True Positive', 'True Negative'. Depending on what you plot. The methods for setting axis label is `plt.xlabel`,`plt.ylabel`."
   ]
  },
  {
   "cell_type": "code",
   "execution_count": 76,
   "metadata": {
    "collapsed": false
   },
   "outputs": [],
   "source": [
    "size = 100\n",
    "FalsePositive = np.zeros((1,size))\n",
    "FalseNegative = np.zeros((1,size))\n",
    "thresholds = np.linspace(0.01,0.99, size)\n",
    "\n",
    "for d in p:\n",
    "    te = test(d, dataset, count)\n",
    "    for i in xrange(size):\n",
    "        if te <= thresholds[i] and d[3] == \"1.00\":\n",
    "            FalseNegative[0][i]+=1\n",
    "        if te > thresholds[i] and  d[3] == \"0.00\":\n",
    "            FalsePositive[0][i]+=1\n",
    "\n",
    "for i in xrange(size):\n",
    "    FalseNegative[0][i] /= cancer_count\n",
    "    FalsePositive[0][i] /= noncancer_count"
   ]
  },
  {
   "cell_type": "code",
   "execution_count": 63,
   "metadata": {
    "collapsed": false
   },
   "outputs": [
    {
     "data": {
      "text/plain": [
       "<matplotlib.text.Text at 0x9e31908>"
      ]
     },
     "execution_count": 63,
     "metadata": {},
     "output_type": "execute_result"
    },
    {
     "data": {
      "image/png": "[encoded data removed]",
      "text/plain": [
       "<matplotlib.figure.Figure at 0x7c97be0>"
      ]
     },
     "metadata": {},
     "output_type": "display_data"
    }
   ],
   "source": [
    "plt.plot(FalseNegative[0], FalsePositive[0], 'r')\n",
    "plt.xlabel(\"FalseNegative\")\n",
    "plt.ylabel(\"FalsePositive\")\n",
    "\n",
    "# Left corner cos we want low false negative"
   ]
  },
  {
   "cell_type": "markdown",
   "metadata": {},
   "source": [
    "# 3. Regression + Regularization"
   ]
  },
  {
   "cell_type": "markdown",
   "metadata": {},
   "source": [
    "Consider the following data points."
   ]
  },
  {
   "cell_type": "code",
   "execution_count": 11,
   "metadata": {
    "collapsed": false
   },
   "outputs": [
    {
     "data": {
      "image/png": "[encoded data removed]",
      "text/plain": [
       "<matplotlib.figure.Figure at 0x7c5d588>"
      ]
     },
     "metadata": {},
     "output_type": "display_data"
    }
   ],
   "source": [
    "xs = np.array([ 0.        ,  0.05263158,  0.10526316,  0.15789474,  0.21052632,\n",
    "        0.26315789,  0.31578947,  0.36842105,  0.42105263,  0.47368421,\n",
    "        0.52631579,  0.57894737,  0.63157895,  0.68421053,  0.73684211,\n",
    "        0.78947368,  0.84210526,  0.89473684,  0.94736842,  1.        ])\n",
    "\n",
    "ys = np.array([ 1.43328957,  0.79286175,  1.23121202,  1.4966537 ,  1.20046242,\n",
    "        0.92179229,  1.72712153,  1.70387714,  1.19614535,  1.46158381,\n",
    "        1.69776375,  1.51873941,  2.14165851,  1.72157696,  2.06161889,\n",
    "        2.33314082,  2.54957117,  3.07761039,  2.89394842,  3.73597637])\n",
    "plt.plot(xs,ys, 'or')\n",
    "plt.grid(True)"
   ]
  },
  {
   "cell_type": "markdown",
   "metadata": {},
   "source": [
    "1) If we fit the following data with a straight line, \n",
    " - Are we overfitting or underfitting? \n",
    " - Would $E_{in}$ be high or low?\n",
    " - Would $E_{out}$ be high or low?"
   ]
  },
  {
   "cell_type": "code",
   "execution_count": 65,
   "metadata": {
    "collapsed": true
   },
   "outputs": [],
   "source": [
    "# Underfitting \n",
    "# both ein and eout will be high"
   ]
  },
  {
   "cell_type": "markdown",
   "metadata": {},
   "source": [
    "2) If we fit the following data with a polynomial of degree 20, \n",
    " - Are we overfitting or underfitting? \n",
    " - Would $E_{in}$ be high or low?\n",
    " - Would $E_{out}$ be high or low?"
   ]
  },
  {
   "cell_type": "code",
   "execution_count": 66,
   "metadata": {
    "collapsed": true
   },
   "outputs": [],
   "source": [
    "# Overfitting\n",
    "#Ein will be low, Eout will be high"
   ]
  },
  {
   "cell_type": "markdown",
   "metadata": {},
   "source": [
    "3) Suppose we fit it with polynomial of degree 20 with regularization term.\n",
    " - What happen if the regularization constant($\\lambda$) is too large? Why?\n",
    " - What happen if the regularization constant($\\lambda$) is too small? Why?"
   ]
  },
  {
   "cell_type": "code",
   "execution_count": 67,
   "metadata": {
    "collapsed": true
   },
   "outputs": [],
   "source": [
    "# if the constant is too high and we penalize the model too hard, it will underfit\n",
    "# if the constant is too small and we penalize the model too less, it will overfit"
   ]
  },
  {
   "cell_type": "markdown",
   "metadata": {},
   "source": [
    "4) What should we do to pick regularization constant ($\\lambda$)?"
   ]
  },
  {
   "cell_type": "code",
   "execution_count": 68,
   "metadata": {
    "collapsed": true
   },
   "outputs": [],
   "source": [
    "# graph out the Ein E out for a bunch of constants and choose the one with lower Eout"
   ]
  },
  {
   "cell_type": "markdown",
   "metadata": {},
   "source": [
    "5) Why is it that regularization term starts at $w_1$ instead of $w_0$?"
   ]
  },
  {
   "cell_type": "code",
   "execution_count": 69,
   "metadata": {
    "collapsed": true
   },
   "outputs": [],
   "source": [
    "# First one is 1, it just shifts the graph"
   ]
  },
  {
   "cell_type": "markdown",
   "metadata": {},
   "source": [
    "6) Fit the data with polynomial of degree 20 with $\\lambda=0.01$."
   ]
  },
  {
   "cell_type": "code",
   "execution_count": 18,
   "metadata": {
    "collapsed": false
   },
   "outputs": [
    {
     "data": {
      "text/plain": [
       "<matplotlib.legend.Legend at 0x96665f8>"
      ]
     },
     "execution_count": 18,
     "metadata": {},
     "output_type": "execute_result"
    },
    {
     "data": {
      "image/png": "[encoded data removed]",
      "text/plain": [
       "<matplotlib.figure.Figure at 0x7d8dc18>"
      ]
     },
     "metadata": {},
     "output_type": "display_data"
    }
   ],
   "source": [
    "def expand_x(x, degree):\n",
    "    return [x**i for i in range(degree + 1)]\n",
    "\n",
    "def genericaf_cost(w, degree, lam):\n",
    "    error = 0.0\n",
    "    regula = 0.\n",
    "    for x, y in zip(xs, ys):\n",
    "        better_x = expand_x(x, degree)\n",
    "        error += (y - np.dot(w, better_x))**2 \n",
    "    error = error / len(xs)\n",
    "    for wi in w[1:]:\n",
    "        regula += (lam * (wi**2))\n",
    "    error+= regula\n",
    "    return error \n",
    "\n",
    "def costaf_for_degree(degree, lam):\n",
    "    return lambda w: genericaf_cost(w, degree, lam)\n",
    "\n",
    "def make_line(w):\n",
    "    degree = len(w) - 1\n",
    "    xs = np.linspace(-1,1,100)\n",
    "    ys = [np.dot(w, expand_x(x, degree)) for x in xs]\n",
    "    return xs, ys\n",
    "\n",
    "deg = 20\n",
    "lamd = 0.01\n",
    "\n",
    "plt.figure()\n",
    "costs = costaf_for_degree(deg, lamd)\n",
    "w = minimize(costs, [0.0] * (deg + 1) ).x\n",
    "linex, liney = make_line(w)\n",
    "plt.plot(xs,ys, \"or\")\n",
    "plt.plot(linex,liney, label = \"degree \" + str(deg))\n",
    "plt.legend()"
   ]
  },
  {
   "cell_type": "markdown",
   "metadata": {},
   "source": [
    "# 4. Logistic Regression"
   ]
  },
  {
   "cell_type": "markdown",
   "metadata": {},
   "source": [
    "1) Supposed that we have 2 data points.\n",
    "\n",
    "- Red(+1): $x_0 = 0.5$, $x_1 = 0.2$\n",
    "- Blue(-1): $x_0 = 0.2$, $x_1 = 0.3$\n",
    "\n",
    "What is the **likelihood** of getting these two data points if our hypothesis is $\\vec{w_1} = [1,2,3]$"
   ]
  },
  {
   "cell_type": "code",
   "execution_count": 8,
   "metadata": {
    "collapsed": false
   },
   "outputs": [
    {
     "name": "stdout",
     "output_type": "stream",
     "text": [
      "x1  0.930861579657\n",
      "x2  0.908877038985\n",
      "0.846038716223\n"
     ]
    }
   ],
   "source": [
    "def thetha(x):\n",
    "    return 1. / (1. + np.exp(-x))\n",
    "\n",
    "\n",
    "x1 = [1,0.5,0.2]\n",
    "x2 = [1,0.2,0.3]\n",
    "w = [1,2,3]\n",
    "p1 = thetha(np.dot(w, x1))\n",
    "p2 = thetha(np.dot(w, x2))\n",
    "print \"x1 \", p1\n",
    "print \"x2 \", p2\n",
    "print p1 * p2"
   ]
  },
  {
   "cell_type": "markdown",
   "metadata": {},
   "source": [
    "2) What is the **likelihood** of getting these two data points if our hypothesis is $\\vec{w_2} = [-1,-2,-3]$"
   ]
  },
  {
   "cell_type": "code",
   "execution_count": 9,
   "metadata": {
    "collapsed": false
   },
   "outputs": [
    {
     "name": "stdout",
     "output_type": "stream",
     "text": [
      "x1  0.0691384203433\n",
      "x2  0.0911229610149\n",
      "0.00630009758158\n"
     ]
    }
   ],
   "source": [
    "w = [-1,-2,-3]\n",
    "p1 = thetha(np.dot(w, x1))\n",
    "p2 = thetha(np.dot(w, x2))\n",
    "print \"x1 \", p1\n",
    "print \"x2 \", p2\n",
    "print p1 * p2"
   ]
  },
  {
   "cell_type": "markdown",
   "metadata": {},
   "source": [
    "3) Which $\\vec{w}$ is better? Explain."
   ]
  },
  {
   "cell_type": "code",
   "execution_count": 73,
   "metadata": {
    "collapsed": true
   },
   "outputs": [],
   "source": [
    "# I think none, because our w cannot differentiate between these two types of points"
   ]
  },
  {
   "cell_type": "markdown",
   "metadata": {},
   "source": [
    "# 5. One more thing\n",
    "\n",
    "Consider the following data points. The line separating the two dataset looks something like\n",
    "$$ax_0 + b \\sin x_0 + cx_1 + d = 0$$\n",
    "\n",
    "for some constants $a, b, c, d$.\n",
    "\n",
    "Build a **logistic** classifier that performs better than 85% on the training data.\n",
    "\n",
    "Make sure you demonstrate that your classifier works more better than 85% on training data.\n",
    "\n",
    "**Be careful**, the classes given in the file are 0 and 1."
   ]
  },
  {
   "cell_type": "code",
   "execution_count": 40,
   "metadata": {
    "collapsed": false
   },
   "outputs": [
    {
     "data": {
      "image/png": "[encoded data removed]",
      "text/plain": [
       "<matplotlib.figure.Figure at 0x7fd37f0>"
      ]
     },
     "metadata": {},
     "output_type": "display_data"
    }
   ],
   "source": [
    "arr = np.genfromtxt('onemorething.csv', delimiter=',')\n",
    "x0s = arr[:, 0]\n",
    "x1s = arr[:, 1]\n",
    "cls = arr[:, 2]\n",
    "plt.plot(x0s[cls==0], x1s[cls==0], '.r', alpha=0.5)\n",
    "plt.plot(x0s[cls==1], x1s[cls==1], '.b', alpha=0.5)\n",
    "plt.xlabel('x0')\n",
    "plt.ylabel('x1')\n",
    "ndata = 500"
   ]
  },
  {
   "cell_type": "code",
   "execution_count": 41,
   "metadata": {
    "collapsed": true
   },
   "outputs": [],
   "source": [
    "dataxp = x0s[cls==1]\n",
    "datayp = x1s[cls==1]\n",
    "\n",
    "dataxm = x0s[cls==0]\n",
    "dataym = x1s[cls==0]"
   ]
  },
  {
   "cell_type": "code",
   "execution_count": 78,
   "metadata": {
    "collapsed": false
   },
   "outputs": [
    {
     "name": "stdout",
     "output_type": "stream",
     "text": [
      "88.5 % Precision\n"
     ]
    }
   ],
   "source": [
    "def theta2(x):\n",
    "    x = np.clip(x, -200, 200, out =x)\n",
    "    return 1. / (1. + np.exp(-x))\n",
    "\n",
    "def pad_extra(x,y):\n",
    "    l = len(x)\n",
    "    tmp = np.empty((l,4))\n",
    "    tmp[:,0] = 1\n",
    "    tmp[:,1] = x\n",
    "    tmp[:,2] = np.sin(x)\n",
    "    tmp[:,3] = y\n",
    "    return tmp\n",
    "\n",
    "class LogReg:\n",
    "    def __init__(self):\n",
    "        self.w = 0\n",
    "    \n",
    "    def fit(self,classes,features):\n",
    "        def cost(w):\n",
    "            return np.sum(np.log(theta2(-classes*np.dot(features, w))))\n",
    "        self.w = minimize(cost, [0.]*len(features[0])).x\n",
    "\n",
    "    def predict(self, features):\n",
    "        s = np.dot(features, self.w)\n",
    "        s = np.clip(s, -200, 200)\n",
    "        return 1./(1 + np.exp(-s))\n",
    "    \n",
    "data_p = pad_extra(dataxp, datayp)\n",
    "data_m = pad_extra(dataxm, dataym)\n",
    "train_data = np.concatenate((data_p, data_m))\n",
    "classes = np.array([1]* 496 + [-1]* 504)\n",
    "\n",
    "lr = LogReg()\n",
    "lr.fit(classes,train_data)\n",
    "\n",
    "precision = 0\n",
    "for m,p in zip(data_m, data_p):\n",
    "\n",
    "    if lr.predict(p) > 0.5:\n",
    "        precision +=1\n",
    "    if lr.predict(m) <= 0.5:\n",
    "        precision+=1\n",
    "print (float(precision) / (ndata * 2)) * 100, \"% Precision\""
   ]
  },
  {
   "cell_type": "code",
   "execution_count": null,
   "metadata": {
    "collapsed": true
   },
   "outputs": [],
   "source": []
  }
 ],
 "metadata": {
  "anaconda-cloud": {},
  "kernelspec": {
   "display_name": "Python [default]",
   "language": "python",
   "name": "python2"
  },
  "language_info": {
   "codemirror_mode": {
    "name": "ipython",
    "version": 2
   },
   "file_extension": ".py",
   "mimetype": "text/x-python",
   "name": "python",
   "nbconvert_exporter": "python",
   "pygments_lexer": "ipython2",
   "version": "2.7.12"
  }
 },
 "nbformat": 4,
 "nbformat_minor": 0
}
