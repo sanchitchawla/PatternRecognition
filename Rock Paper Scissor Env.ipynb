{
 "cells": [
  {
   "cell_type": "code",
   "execution_count": 1,
   "metadata": {
    "collapsed": true
   },
   "outputs": [],
   "source": [
    "import numpy as np"
   ]
  },
  {
   "cell_type": "code",
   "execution_count": 2,
   "metadata": {
    "collapsed": true
   },
   "outputs": [],
   "source": [
    "class Game:\n",
    "    def __init__(self):\n",
    "        raise NotImplementedError\n",
    "    def reset(self):\n",
    "        raise NotImplementedError\n",
    "    def current_state(self):\n",
    "        raise NotImplementedError\n",
    "        \n",
    "    def possible_actions(self):\n",
    "        raise NotImplementedError\n",
    "    def play(self,action):\n",
    "        #change state of the game\n",
    "        #return reward\n",
    "        raise NotImplementedError"
   ]
  },
  {
   "cell_type": "code",
   "execution_count": 4,
   "metadata": {
    "collapsed": true
   },
   "outputs": [],
   "source": [
    "from random import random, choice\n",
    "class RPS(Game):\n",
    "    def __init__(self):\n",
    "        self.cs = None\n",
    "        self.reset()\n",
    "        \n",
    "    def reset(self):\n",
    "        self.cs = choice([\"r\", \"p\", \"s\"])\n",
    "        \n",
    "    def current_state(self):\n",
    "        return self.cs\n",
    "        \n",
    "    def possible_actions(self):\n",
    "        return (\"r\", \"p\", \"s\")\n",
    "        \n",
    "    def play(self,action):\n",
    "        #rewards[state][action] = score for player\n",
    "        rewards ={\n",
    "            'r': {\"r\": 0, \"p\": 1, \"s\": -1},\n",
    "            \"p\": {\"r\":-1, \"p\": 0, \"s\":  1},\n",
    "            \"s\": {\"r\": 1, \"p\": -1, \"s\": 0}\n",
    "        }\n",
    "        reward = rewards[self.cs][action]\n",
    "        self.cs = None\n",
    "        return reward"
   ]
  },
  {
   "cell_type": "code",
   "execution_count": 15,
   "metadata": {
    "collapsed": false
   },
   "outputs": [],
   "source": [
    "class Bot:\n",
    "    def __init__(self):\n",
    "        raise NotImplementedError\n",
    "    def decide(self, game):\n",
    "        #look through all possible actions\n",
    "        #pick 1\n",
    "        #return action\n",
    "        raise NotImplementedError\n",
    "    def learn(self,old_state, reward):\n",
    "        #update your q\n",
    "        raise NotImplementedError"
   ]
  },
  {
   "cell_type": "code",
   "execution_count": 10,
   "metadata": {
    "collapsed": true
   },
   "outputs": [],
   "source": [
    "mygame = RPS()"
   ]
  },
  {
   "cell_type": "code",
   "execution_count": 11,
   "metadata": {
    "collapsed": false
   },
   "outputs": [
    {
     "data": {
      "text/plain": [
       "1"
      ]
     },
     "execution_count": 11,
     "metadata": {},
     "output_type": "execute_result"
    }
   ],
   "source": [
    "mygame.play('p')"
   ]
  },
  {
   "cell_type": "code",
   "execution_count": 66,
   "metadata": {
    "collapsed": false
   },
   "outputs": [],
   "source": [
    "class RPSBot(Bot):\n",
    "    def __init__(self):\n",
    "        self.Q = {}\n",
    "        self.default_value = 0.5\n",
    "        \n",
    "    def decide(self, game, epsilon = 0.1):        \n",
    "        pa = game.possible_actions()\n",
    "        cs = game.current_state()\n",
    "        epsilon = 0 # for winning all the time \n",
    "        \n",
    "        if cs not in self.Q:\n",
    "            self.Q[cs] = {k: self.default_value for k in pa}\n",
    "        \n",
    "        should_greedy = random() > epsilon\n",
    "        \n",
    "        if should_greedy:\n",
    "            #do greedy\n",
    "            return max(self.Q[cs], key = self.Q[cs].get)\n",
    "        else:\n",
    "            # random\n",
    "            return choice(pa)\n",
    "        \n",
    "    def learn(self,old_state,action,reward, learning_rate = 0.1):\n",
    "        #update your q\n",
    "        oldQ = self.Q[old_state][action]\n",
    "        newQ = oldQ + learning_rate *(reward - oldQ)\n",
    "        self.Q[old_state][action] = newQ"
   ]
  },
  {
   "cell_type": "code",
   "execution_count": 67,
   "metadata": {
    "collapsed": true
   },
   "outputs": [],
   "source": [
    "class GameShop:\n",
    "    def __init__(self,game,player):\n",
    "        self.game = game\n",
    "        self.player = player\n",
    "    \n",
    "    def gym(self, epsilon, n = 10000):\n",
    "        # force the bot sit there the play the game\n",
    "        # slap if it fails give yoyos otherwise\n",
    "        \n",
    "        for i in xrange(n):\n",
    "            self.game.reset()\n",
    "            game_end = False\n",
    "            while not game_end:\n",
    "                old_state = self.game.current_state()\n",
    "                action = self.player.decide(self.game,epsilon)\n",
    "                reward = self.game.play(action)\n",
    "                self.player.learn(old_state,action,reward)\n",
    "                game_end = game.current_state() is None"
   ]
  },
  {
   "cell_type": "code",
   "execution_count": 70,
   "metadata": {
    "collapsed": false
   },
   "outputs": [
    {
     "name": "stdout",
     "output_type": "stream",
     "text": [
      "1000\n"
     ]
    }
   ],
   "source": [
    "bot = RPSBot()\n",
    "game = RPS()\n",
    "\n",
    "trainer = GameShop(game, bot)\n",
    "trainer.gym(0.1)\n",
    "\n",
    "score = 0\n",
    "n = 1000\n",
    "for i in xrange(n):\n",
    "    game.reset()\n",
    "    score+= game.play(trainer.player.decide(game))\n",
    "print   score"
   ]
  },
  {
   "cell_type": "code",
   "execution_count": 69,
   "metadata": {
    "collapsed": false
   },
   "outputs": [
    {
     "name": "stdout",
     "output_type": "stream",
     "text": [
      "{'p': {'p': 0.45, 'r': 0.5, 's': 0.9999999999999996},\n",
      " 'r': {'p': 0.9999999999999996, 'r': 0.5, 's': 0.5},\n",
      " 's': {'p': 0.35, 'r': 0.9999999999999996, 's': 0.45}}\n"
     ]
    }
   ],
   "source": [
    "from pprint import pprint\n",
    "\n",
    "pprint(bot.Q)"
   ]
  },
  {
   "cell_type": "code",
   "execution_count": null,
   "metadata": {
    "collapsed": true
   },
   "outputs": [],
   "source": []
  }
 ],
 "metadata": {
  "anaconda-cloud": {},
  "kernelspec": {
   "display_name": "Python [default]",
   "language": "python",
   "name": "python2"
  },
  "language_info": {
   "codemirror_mode": {
    "name": "ipython",
    "version": 2
   },
   "file_extension": ".py",
   "mimetype": "text/x-python",
   "name": "python",
   "nbconvert_exporter": "python",
   "pygments_lexer": "ipython2",
   "version": "2.7.12"
  }
 },
 "nbformat": 4,
 "nbformat_minor": 1
}
